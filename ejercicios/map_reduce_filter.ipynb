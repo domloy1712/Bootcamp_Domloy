{
 "cells": [
  {
   "cell_type": "code",
   "execution_count": 4,
   "id": "ad31b0d2",
   "metadata": {},
   "outputs": [
    {
     "name": "stdout",
     "output_type": "stream",
     "text": [
      "[1, 4, 9, 16]\n"
     ]
    }
   ],
   "source": [
    "lista = [1, 2, 3, 4]\n",
    "resultado = map( lambda X:X**2, lista)\n",
    "print(list(resultado))\n"
   ]
  },
  {
   "cell_type": "code",
   "execution_count": null,
   "id": "42dfdd1e",
   "metadata": {},
   "outputs": [
    {
     "name": "stdout",
     "output_type": "stream",
     "text": [
      "['ANA', 'LUIS', 'MARTA']\n"
     ]
    }
   ],
   "source": [
    "lista = [\"ana\", \"luis\", \"marta\"]\n",
    "mayus = map(str.upper, lista)\n",
    "print(list(mayus))"
   ]
  },
  {
   "cell_type": "code",
   "execution_count": 21,
   "id": "9abea7e3",
   "metadata": {},
   "outputs": [
    {
     "name": "stdout",
     "output_type": "stream",
     "text": [
      "[12.1, 24.2, 36.3]\n"
     ]
    }
   ],
   "source": [
    "lista = [10, 20, 30]\n",
    "iva = map(lambda x:x *0.21, lista)\n",
    "lista_iva = list(iva)\n",
    "resultado = []\n",
    "for iva, precio in zip(lista_iva,lista):\n",
    "    precio_final = precio + iva\n",
    "    resultado.append(precio_final)\n",
    "print(resultado)\n",
    "\n"
   ]
  },
  {
   "cell_type": "code",
   "execution_count": null,
   "id": "4d35be35",
   "metadata": {},
   "outputs": [],
   "source": [
    "fechas = [\"2023-05-15\", \"2024-06-17\" , \"2025-08-15\", \"2026-09-15\"]\n",
    "año = map(lambda)"
   ]
  },
  {
   "cell_type": "code",
   "execution_count": 23,
   "id": "d6e6ceab",
   "metadata": {},
   "outputs": [
    {
     "name": "stdout",
     "output_type": "stream",
     "text": [
      "[12, 20]\n"
     ]
    }
   ],
   "source": [
    "lista = [5,12,3,20,7]\n",
    "numeros = filter(lambda x:x > 10,lista)\n",
    "print(list(numeros))"
   ]
  },
  {
   "cell_type": "code",
   "execution_count": 34,
   "id": "77e3c035",
   "metadata": {},
   "outputs": [
    {
     "name": "stdout",
     "output_type": "stream",
     "text": [
      "['ave']\n"
     ]
    }
   ],
   "source": [
    "nombres = [\"oso\", \"gato\", \"ave\", \"perro\"]\n",
    "animales = filter(lambda nombre: nombre.startswith((\"a\",\"e\",\"i\",\"ou\")), nombres)\n",
    "print(list(animales))"
   ]
  },
  {
   "cell_type": "code",
   "execution_count": 40,
   "id": "0ece3cd1",
   "metadata": {},
   "outputs": [
    {
     "name": "stdout",
     "output_type": "stream",
     "text": [
      "[{'nombre': 'cuaderno', 'stock': 5}, {'nombre': 'goma', 'stock': 2}]\n"
     ]
    }
   ],
   "source": [
    "productos = [{\"nombre\": \"lápiz\", \"stock\": 0},{\"nombre\": \"cuaderno\", \"stock\": 5},{\"nombre\": \"goma\", \"stock\": 2}]\n",
    "tienda = filter(lambda producto:producto[\"stock\"]> 1,productos)\n",
    "print(list(tienda))\n"
   ]
  },
  {
   "cell_type": "code",
   "execution_count": 45,
   "id": "19203c0f",
   "metadata": {},
   "outputs": [
    {
     "name": "stdout",
     "output_type": "stream",
     "text": [
      "['2025-01-01', '2024-06-01']\n"
     ]
    }
   ],
   "source": [
    "u = [\"2025-01-01\", \"2023-01-01\", \"2024-06-01\"]\n",
    "t = \"2024-01-01\"\n",
    "uu = filter(lambda a:a > t,u)\n",
    "print(list(uu))"
   ]
  },
  {
   "cell_type": "code",
   "execution_count": 46,
   "id": "38fd1f45",
   "metadata": {},
   "outputs": [
    {
     "name": "stdout",
     "output_type": "stream",
     "text": [
      "15\n"
     ]
    }
   ],
   "source": [
    "from functools import reduce\n",
    "numeros = [1, 2, 3, 4, 5]\n",
    "solo = reduce(lambda numero,numero2: numero+numero2, numeros)\n",
    "print(solo)\n"
   ]
  },
  {
   "cell_type": "code",
   "execution_count": 47,
   "id": "330d950c",
   "metadata": {},
   "outputs": [
    {
     "name": "stdout",
     "output_type": "stream",
     "text": [
      "24\n"
     ]
    }
   ],
   "source": [
    "from functools import reduce\n",
    "r = [2, 3, 4]\n",
    "epa = reduce(lambda f,y: f*y, r)\n",
    "print(epa)"
   ]
  },
  {
   "cell_type": "code",
   "execution_count": null,
   "id": "bc9019b5",
   "metadata": {},
   "outputs": [],
   "source": [
    "carrito = [{\"producto\": \"pan\", \"precio\": 1.5}, {\"producto\": \"leche\",\"precio\": 2.0}, {\"producto\": \"queso\", \"precio\": 3.75}]\n",
    "calculos = reduce(lambda productos,precios )"
   ]
  }
 ],
 "metadata": {
  "kernelspec": {
   "display_name": "Python 3",
   "language": "python",
   "name": "python3"
  },
  "language_info": {
   "codemirror_mode": {
    "name": "ipython",
    "version": 3
   },
   "file_extension": ".py",
   "mimetype": "text/x-python",
   "name": "python",
   "nbconvert_exporter": "python",
   "pygments_lexer": "ipython3",
   "version": "3.13.2"
  }
 },
 "nbformat": 4,
 "nbformat_minor": 5
}
