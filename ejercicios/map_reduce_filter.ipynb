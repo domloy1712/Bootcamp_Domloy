{
 "cells": [
  {
   "cell_type": "code",
   "execution_count": 4,
   "id": "ad31b0d2",
   "metadata": {},
   "outputs": [
    {
     "name": "stdout",
     "output_type": "stream",
     "text": [
      "[1, 4, 9, 16]\n"
     ]
    }
   ],
   "source": [
    "lista = [1, 2, 3, 4]\n",
    "resultado = map( lambda X:X**2, lista)\n",
    "print(list(resultado))\n"
   ]
  },
  {
   "cell_type": "code",
   "execution_count": null,
   "id": "42dfdd1e",
   "metadata": {},
   "outputs": [
    {
     "name": "stdout",
     "output_type": "stream",
     "text": [
      "['ANA', 'LUIS', 'MARTA']\n"
     ]
    }
   ],
   "source": [
    "lista = [\"ana\", \"luis\", \"marta\"]\n",
    "mayus = map(str.upper, lista)\n",
    "print(list(mayus))"
   ]
  },
  {
   "cell_type": "code",
   "execution_count": 21,
   "id": "9abea7e3",
   "metadata": {},
   "outputs": [
    {
     "name": "stdout",
     "output_type": "stream",
     "text": [
      "[12.1, 24.2, 36.3]\n"
     ]
    }
   ],
   "source": [
    "lista = [10, 20, 30]\n",
    "iva = map(lambda x:x *0.21, lista)\n",
    "lista_iva = list(iva)\n",
    "resultado = []\n",
    "for iva, precio in zip(lista_iva,lista):\n",
    "    precio_final = precio + iva\n",
    "    resultado.append(precio_final)\n",
    "print(resultado)\n",
    "\n"
   ]
  },
  {
   "cell_type": "code",
   "execution_count": null,
   "id": "4d35be35",
   "metadata": {},
   "outputs": [],
   "source": [
    "fechas = [\"2023-05-15\", \"2024-06-17\" , \"2025-08-15\", \"2026-09-15\"]\n",
    "año = map(lambda fecha int() )"
   ]
  }
 ],
 "metadata": {
  "kernelspec": {
   "display_name": "Python 3",
   "language": "python",
   "name": "python3"
  },
  "language_info": {
   "codemirror_mode": {
    "name": "ipython",
    "version": 3
   },
   "file_extension": ".py",
   "mimetype": "text/x-python",
   "name": "python",
   "nbconvert_exporter": "python",
   "pygments_lexer": "ipython3",
   "version": "3.13.2"
  }
 },
 "nbformat": 4,
 "nbformat_minor": 5
}
