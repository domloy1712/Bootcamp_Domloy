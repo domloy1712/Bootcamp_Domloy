{
 "cells": [
  {
   "cell_type": "markdown",
   "id": "a765f3d9",
   "metadata": {},
   "source": [
    "### Conexión desde Python con sqlite3"
   ]
  },
  {
   "cell_type": "code",
   "execution_count": 55,
   "id": "7b7f67b9",
   "metadata": {},
   "outputs": [],
   "source": [
    "import sqlite3"
   ]
  },
  {
   "cell_type": "code",
   "execution_count": 56,
   "id": "bfdb9e38",
   "metadata": {},
   "outputs": [],
   "source": [
    "# Conectar (crea el archivo si no existe)\n",
    "conexion = sqlite3.connect('clientes.db')\n"
   ]
  },
  {
   "cell_type": "code",
   "execution_count": 57,
   "id": "bf0611f0",
   "metadata": {},
   "outputs": [],
   "source": [
    "# Crear un cursor\n",
    "cursor = conexion.cursor()\n"
   ]
  },
  {
   "cell_type": "code",
   "execution_count": 58,
   "id": "dd3b48be",
   "metadata": {},
   "outputs": [],
   "source": [
    "# Cerrar conexión\n",
    "conexion.close()\n"
   ]
  },
  {
   "cell_type": "markdown",
   "id": "88fc5024",
   "metadata": {},
   "source": [
    "### Crear tablas y ejecutar consultas desde Python"
   ]
  },
  {
   "cell_type": "code",
   "execution_count": 59,
   "id": "7271b292",
   "metadata": {},
   "outputs": [],
   "source": [
    "conexion = sqlite3.connect('clientes.db')\n",
    "cursor = conexion.cursor()\n"
   ]
  },
  {
   "cell_type": "code",
   "execution_count": 60,
   "id": "b6b4794c",
   "metadata": {},
   "outputs": [],
   "source": [
    "cursor.execute('''\n",
    "CREATE TABLE IF NOT EXISTS contactos (\n",
    "    id INTEGER PRIMARY KEY AUTOINCREMENT,\n",
    "    nombre TEXT NOT NULL,\n",
    "    telefono TEXT,\n",
    "    email TEXT\n",
    ")\n",
    "''')\n",
    "\n",
    "conexion.commit()\n",
    "conexion.close()\n"
   ]
  },
  {
   "cell_type": "markdown",
   "id": "92c93cdd",
   "metadata": {},
   "source": [
    "### Operaciones CRUD (Create, Read, Update, Delete)\n"
   ]
  },
  {
   "cell_type": "markdown",
   "id": "78177eb6",
   "metadata": {},
   "source": [
    "#### create; Insertar datos"
   ]
  },
  {
   "cell_type": "code",
   "execution_count": 61,
   "id": "c07622f0",
   "metadata": {},
   "outputs": [],
   "source": [
    "conexion = sqlite3.connect('clientes.db')\n",
    "cursor = conexion.cursor()\n",
    "cursor.execute(\"INSERT INTO contactos (nombre, telefono, email) VALUES (?, ?, ?)\",\n",
    "               ('Ana', '654321098', 'ana@email.com'))\n",
    "cursor.execute(\"INSERT INTO contactos (nombre, telefono, email) VALUES (?, ?, ?)\",\n",
    "               ('Jose', '666777888', 'jose@email.com'))\n",
    "cursor.execute(\"INSERT INTO contactos (nombre, telefono, email) VALUES (?, ?, ?)\",\n",
    "               ('Pere', '654321098', 'pereiv@email.com'))\n",
    "cursor.execute(\"INSERT INTO contactos (nombre, telefono, email) VALUES (?, ?, ?)\",\n",
    "               ('Gumersindo', '666777888', 'sindo@email.com'))\n",
    "conexion.commit()\n",
    "conexion.close()\n"
   ]
  },
  {
   "cell_type": "markdown",
   "id": "8e1f27cc",
   "metadata": {},
   "source": [
    "#### read; Leer datos"
   ]
  },
  {
   "cell_type": "code",
   "execution_count": 62,
   "id": "8bd84ff8",
   "metadata": {},
   "outputs": [
    {
     "name": "stdout",
     "output_type": "stream",
     "text": [
      "(1, 'Ana', '654321098', 'ana@email.com')\n",
      "(2, 'Jose', '666777888', 'jose@email.com')\n",
      "(3, 'Pere', '654321098', 'pereiv@email.com')\n",
      "(4, 'Gumersindo', '666777888', 'sindo@email.com')\n"
     ]
    }
   ],
   "source": [
    "conexion = sqlite3.connect('clientes.db')\n",
    "cursor = conexion.cursor()\n",
    "cursor.execute(\"SELECT * FROM contactos\")\n",
    "resultados = cursor.fetchall()\n",
    "\n",
    "for fila in resultados:\n",
    "    print(fila)\n",
    "\n",
    "conexion.close()\n",
    "\n"
   ]
  },
  {
   "cell_type": "markdown",
   "id": "b541f325",
   "metadata": {},
   "source": [
    "#### update; Modificar datos"
   ]
  },
  {
   "cell_type": "code",
   "execution_count": 63,
   "id": "16b21322",
   "metadata": {},
   "outputs": [],
   "source": [
    "conexion = sqlite3.connect('clientes.db')\n",
    "cursor = conexion.cursor()\n",
    "cursor.execute(\"UPDATE contactos SET telefono = ? WHERE nombre = ?\", ('666666666', 'Ana'))\n",
    "conexion.commit()\n",
    "conexion.close()\n",
    "\n"
   ]
  },
  {
   "cell_type": "markdown",
   "id": "340e9a37",
   "metadata": {},
   "source": [
    "#### delete; Borrar datos"
   ]
  },
  {
   "cell_type": "code",
   "execution_count": 64,
   "id": "168a571c",
   "metadata": {},
   "outputs": [],
   "source": [
    "conexion = sqlite3.connect('clientes.db')\n",
    "cursor = conexion.cursor()\n",
    "cursor.execute(\"DELETE FROM contactos WHERE nombre = ?\", ('Ana',))\n",
    "\n",
    "conexion.commit()\n",
    "conexion.close()\n"
   ]
  },
  {
   "cell_type": "markdown",
   "id": "198a2ccf",
   "metadata": {},
   "source": [
    "### Consultas avanzadas: JOIN, filtros y agregaciones"
   ]
  },
  {
   "cell_type": "markdown",
   "id": "d0275d4c",
   "metadata": {},
   "source": [
    "#### Filtrar por condiciones:\n"
   ]
  },
  {
   "cell_type": "code",
   "execution_count": 65,
   "id": "d18802dd",
   "metadata": {},
   "outputs": [
    {
     "name": "stdout",
     "output_type": "stream",
     "text": [
      "(2, 'Jose', '666777888', 'jose@email.com')\n",
      "(3, 'Pere', '654321098', 'pereiv@email.com')\n",
      "(4, 'Gumersindo', '666777888', 'sindo@email.com')\n"
     ]
    }
   ],
   "source": [
    "conexion = sqlite3.connect('clientes.db')\n",
    "cursor = conexion.cursor()\n",
    "cursor.execute(\"SELECT * FROM contactos WHERE nombre LIKE '%e%'\")\n",
    "resultados = cursor.fetchall()\n",
    "\n",
    "for fila in resultados:\n",
    "    print(fila)\n",
    "\n",
    "conexion.close()"
   ]
  },
  {
   "cell_type": "markdown",
   "id": "491b8f02",
   "metadata": {},
   "source": [
    "#### Agregaciones:\n"
   ]
  },
  {
   "cell_type": "code",
   "execution_count": 66,
   "id": "6b6e1eab",
   "metadata": {},
   "outputs": [
    {
     "name": "stdout",
     "output_type": "stream",
     "text": [
      "Hay 3 contactos.\n"
     ]
    }
   ],
   "source": [
    "conexion = sqlite3.connect('clientes.db')\n",
    "cursor = conexion.cursor()\n",
    "cursor.execute(\"SELECT COUNT(*) FROM contactos\")\n",
    "resultado = cursor.fetchone()\n",
    "print('Hay',resultado[0], 'contactos.')\n"
   ]
  },
  {
   "cell_type": "markdown",
   "id": "e70e8ebd",
   "metadata": {},
   "source": [
    "#### JOIN"
   ]
  },
  {
   "cell_type": "code",
   "execution_count": 67,
   "id": "d30e6830",
   "metadata": {},
   "outputs": [],
   "source": [
    "conexion = sqlite3.connect('clientes.db')\n",
    "cursor = conexion.cursor()\n",
    "cursor.execute('''\n",
    "CREATE TABLE IF NOT EXISTS direcciones (\n",
    "    id INTEGER PRIMARY KEY AUTOINCREMENT,\n",
    "    calle TEXT NOT NULL,\n",
    "    poblacion TEXT,\n",
    "    cp TEXT,\n",
    "    provincia TEXT,\n",
    "    id_contacto INTEGER,\n",
    "    FOREIGN KEY (id_contacto) REFERENCES contactos(id)               \n",
    ")\n",
    "''')\n",
    "\n",
    "conexion.commit()\n",
    "conexion.close()"
   ]
  },
  {
   "cell_type": "code",
   "execution_count": 68,
   "id": "b0ca1a94",
   "metadata": {},
   "outputs": [
    {
     "data": {
      "text/plain": [
       "<sqlite3.Cursor at 0x25fcd37cd40>"
      ]
     },
     "execution_count": 68,
     "metadata": {},
     "output_type": "execute_result"
    }
   ],
   "source": [
    "conexion = sqlite3.connect('clientes.db')\n",
    "cursor = conexion.cursor()\n",
    "cursor.execute(\"insert into direcciones (calle,poblacion,cp,provincia,id_contacto) values ('c/sagasta 37','El prat','08999','BCN',1)\")\n"
   ]
  },
  {
   "cell_type": "code",
   "execution_count": 69,
   "id": "102610ea",
   "metadata": {},
   "outputs": [],
   "source": [
    "cursor.execute(\"insert into direcciones (calle,poblacion,cp,provincia,id_contacto) values (?,?,?,?,?)\" ,('c/sagasta 27','El prat','08999','BCN',2))\n",
    "cursor.execute(\"insert into direcciones (calle,poblacion,cp,provincia,id_contacto) values (?,?,?,?,?)\" ,('c/sagasta 17','El prat','08999','BCN',3))\n",
    "cursor.execute(\"insert into direcciones (calle,poblacion,cp,provincia,id_contacto) values (?,?,?,?,?)\" ,('c/sagasta 7','El prat','08999','BCN',4))\n",
    "cursor.execute(\"insert into direcciones (calle,poblacion,cp,provincia,id_contacto) values (?,?,?,?,?)\" ,('c/saboya 27','El prat','08999','BCN',1))\n",
    "cursor.execute(\"insert into direcciones (calle,poblacion,cp,provincia,id_contacto) values (?,?,?,?,?)\" ,('c/carrer 27','El prat','08999','BCN',2))\n",
    "cursor.execute(\"insert into direcciones (calle,poblacion,cp,provincia,id_contacto) values (?,?,?,?,?)\" ,('c/cucufate 27','El prat','08999','BCN',2))\n",
    "\n",
    "conexion.commit()\n",
    "conexion.close()"
   ]
  },
  {
   "cell_type": "code",
   "execution_count": 70,
   "id": "721a8aa2",
   "metadata": {},
   "outputs": [
    {
     "name": "stdout",
     "output_type": "stream",
     "text": [
      "('Jose', 'c/sagasta 27')\n",
      "('Pere', 'c/sagasta 17')\n",
      "('Gumersindo', 'c/sagasta 7')\n",
      "('Jose', 'c/carrer 27')\n",
      "('Jose', 'c/cucufate 27')\n"
     ]
    }
   ],
   "source": [
    "conexion = sqlite3.connect('clientes.db')\n",
    "cursor = conexion.cursor()\n",
    "cursor.execute('''\n",
    "SELECT c.nombre, d.calle\n",
    "FROM contactos c\n",
    "JOIN direcciones d ON c.id = d.id_contacto\n",
    "''')\n",
    "resultados = cursor.fetchall()\n",
    "\n",
    "for fila in resultados:\n",
    "    print(fila)\n",
    "\n",
    "conexion.close()"
   ]
  },
  {
   "cell_type": "code",
   "execution_count": 71,
   "id": "3458c457",
   "metadata": {},
   "outputs": [
    {
     "name": "stdout",
     "output_type": "stream",
     "text": [
      "(1, 'c/sagasta 37', 'El prat', '08999', 'BCN', 1)\n",
      "(2, 'c/sagasta 27', 'El prat', '08999', 'BCN', 2)\n",
      "(3, 'c/sagasta 17', 'El prat', '08999', 'BCN', 3)\n",
      "(4, 'c/sagasta 7', 'El prat', '08999', 'BCN', 4)\n",
      "(5, 'c/saboya 27', 'El prat', '08999', 'BCN', 1)\n",
      "(6, 'c/carrer 27', 'El prat', '08999', 'BCN', 2)\n",
      "(7, 'c/cucufate 27', 'El prat', '08999', 'BCN', 2)\n"
     ]
    }
   ],
   "source": [
    "conexion = sqlite3.connect('clientes.db')\n",
    "cursor = conexion.cursor()\n",
    "cursor.execute(\"SELECT * FROM direcciones\")\n",
    "resultados = cursor.fetchall()\n",
    "\n",
    "for fila in resultados:\n",
    "    print(fila)\n",
    "\n",
    "conexion.close()"
   ]
  },
  {
   "cell_type": "code",
   "execution_count": 75,
   "id": "f3742c7d",
   "metadata": {},
   "outputs": [
    {
     "name": "stdout",
     "output_type": "stream",
     "text": [
      "(2, 'Jose', '666777888', 'jose@email.com')\n",
      "(3, 'Pere', '654321098', 'pereiv@email.com')\n",
      "(4, 'Gumersindo', '666777888', 'sindo@email.com')\n"
     ]
    }
   ],
   "source": [
    "conexion = sqlite3.connect('clientes.db')\n",
    "cursor = conexion.cursor()\n",
    "cursor.execute(\"SELECT * FROM contactos\")\n",
    "resultados = cursor.fetchall()\n",
    "\n",
    "for fila in resultados:\n",
    "    print(fila)\n",
    "\n",
    "conexion.close()"
   ]
  },
  {
   "cell_type": "markdown",
   "id": "4845718d",
   "metadata": {},
   "source": [
    "### Manejo de errores y transacciones"
   ]
  },
  {
   "cell_type": "code",
   "execution_count": 73,
   "id": "7ec10c54",
   "metadata": {},
   "outputs": [
    {
     "name": "stdout",
     "output_type": "stream",
     "text": [
      "Error: NOT NULL constraint failed: contactos.nombre\n"
     ]
    }
   ],
   "source": [
    "try:\n",
    "    conexion = sqlite3.connect('clientes.db')\n",
    "    cursor = conexion.cursor()\n",
    "    cursor.execute(\"INSERT INTO contactos (nombre) VALUES (?)\", (None,))\n",
    "    conexion.commit()\n",
    "except sqlite3.Error as e:\n",
    "    print(\"Error:\", e)\n",
    "finally:\n",
    "    conexion.close()\n"
   ]
  },
  {
   "cell_type": "markdown",
   "id": "2bc81889",
   "metadata": {},
   "source": [
    "### Transacciones:\n",
    "\n",
    "\n"
   ]
  },
  {
   "cell_type": "code",
   "execution_count": 74,
   "id": "d631f2c1",
   "metadata": {},
   "outputs": [],
   "source": [
    "with sqlite3.connect('clientes.db') as conn:\n",
    "    cursor = conn.cursor()\n",
    "    cursor.execute(\"UPDATE contactos SET telefono = ? WHERE nombre = ?\", ('777777777', 'Carlos'))\n",
    "    conn.commit()\n"
   ]
  }
 ],
 "metadata": {
  "kernelspec": {
   "display_name": "base",
   "language": "python",
   "name": "python3"
  },
  "language_info": {
   "codemirror_mode": {
    "name": "ipython",
    "version": 3
   },
   "file_extension": ".py",
   "mimetype": "text/x-python",
   "name": "python",
   "nbconvert_exporter": "python",
   "pygments_lexer": "ipython3",
   "version": "3.12.7"
  }
 },
 "nbformat": 4,
 "nbformat_minor": 5
}
