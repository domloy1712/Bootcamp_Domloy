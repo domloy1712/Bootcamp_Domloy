{
 "cells": [
  {
   "cell_type": "markdown",
   "id": "c12bc3df",
   "metadata": {},
   "source": [
    "#### Escenario: Sistema de Gestión de Vehículos de Transporte Público"
   ]
  },
  {
   "cell_type": "markdown",
   "id": "c63d85a5",
   "metadata": {},
   "source": [
    "Objetivo: Gestionar diferentes tipos de vehículos (autobuses, trenes, tranvías), cada uno con distintas formas de calcular su consumo energético, y permitir a un sistema central controlar su operación sin conocer los detalles internos.\n"
   ]
  },
  {
   "cell_type": "markdown",
   "id": "91c8e885",
   "metadata": {},
   "source": [
    "- Encapsulamiento\tCada vehículo guarda sus datos internos (modelo, consumo, capacidad) y expone métodos seguros.\n",
    "- Herencia\tTodos los vehículos heredan de una clase base VehiculoTransporte.\n",
    "- Polimorfismo\tTodos implementan el método calcular_consumo() de forma distinta.\n",
    "- Abstracción\tEl sistema usa la interfaz VehiculoTransporte sin saber si es tren, autobús o tranvía."
   ]
  },
  {
   "cell_type": "code",
   "execution_count": 3,
   "id": "ce39d987",
   "metadata": {},
   "outputs": [
    {
     "name": "stdout",
     "output_type": "stream",
     "text": [
      "Este empleado se llama Paco y gana 1000.\n",
      "Salario total: 2000\n",
      "\n",
      "Este empleado se llama Juan y gana 1000.\n",
      "Salario total: 3000\n",
      "\n",
      "Este empleado se llama Alex y gana 1200.\n",
      "Salario total: 600.0\n",
      "\n"
     ]
    }
   ],
   "source": [
    "from abc import ABC, abstractmethod\n",
    "# Abstracción\n",
    "class Empleado(ABC):\n",
    "    def __init__(self, nombre, sueldo_base):\n",
    "        # 🚪 Encapsulamiento\n",
    "        self._nombre = nombre\n",
    "        self._sueldo_base = sueldo_base\n",
    "\n",
    "    def descripcion(self):\n",
    "        return f\"Este empleado se llama {self._nombre} y gana {self._sueldo_base}.\"\n",
    "\n",
    "    # 💥 Método abstracto para forzar polimorfismo\n",
    "    @abstractmethod\n",
    "    def calcular_salariototal(self): \n",
    "        pass  \n",
    "\n",
    "# 🚌 Herencia + Polimorfismo\n",
    "class Programador(Empleado):\n",
    "    def calcular_salariototal(self):\n",
    "        return self._sueldo_base + 1000 \n",
    "\n",
    "class Gerente(Empleado):\n",
    "    def calcular_salariototal(self):\n",
    "        return self._sueldo_base + 2000\n",
    "\n",
    "class Diseñador(Empleado):\n",
    "    def calcular_salariototal(self):\n",
    "        return self._sueldo_base * 0.5  \n",
    "\n",
    "\n",
    "\n",
    "# 🚀 Simulación\n",
    "Empleados = [\n",
    "    Programador(\"Paco\", 1000),\n",
    "    Gerente(\"Juan\", 1000),\n",
    "    Diseñador(\"Alex\", 1200),\n",
    "]\n",
    "\n",
    "for empleado in Empleados:\n",
    "    print(empleado.descripcion())\n",
    "    print(f\"Salario total: {empleado.calcular_salariototal()}\\n\")\n"
   ]
  }
 ],
 "metadata": {
  "kernelspec": {
   "display_name": "Python 3",
   "language": "python",
   "name": "python3"
  },
  "language_info": {
   "codemirror_mode": {
    "name": "ipython",
    "version": 3
   },
   "file_extension": ".py",
   "mimetype": "text/x-python",
   "name": "python",
   "nbconvert_exporter": "python",
   "pygments_lexer": "ipython3",
   "version": "3.13.2"
  }
 },
 "nbformat": 4,
 "nbformat_minor": 5
}
