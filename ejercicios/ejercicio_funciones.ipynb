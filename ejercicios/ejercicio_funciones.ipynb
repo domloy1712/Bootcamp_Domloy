{
 "cells": [
  {
   "cell_type": "code",
   "execution_count": 2,
   "id": "564d63f4",
   "metadata": {},
   "outputs": [],
   "source": [
    "def saludar():\n",
    "    print('ola amiga!')"
   ]
  },
  {
   "cell_type": "code",
   "execution_count": 3,
   "id": "936c796b",
   "metadata": {},
   "outputs": [
    {
     "name": "stdout",
     "output_type": "stream",
     "text": [
      "ola amiga!\n"
     ]
    }
   ],
   "source": [
    "saludar()"
   ]
  },
  {
   "cell_type": "code",
   "execution_count": 5,
   "id": "6f6cee2f",
   "metadata": {},
   "outputs": [
    {
     "name": "stdout",
     "output_type": "stream",
     "text": [
      "ola Juan\n"
     ]
    }
   ],
   "source": [
    "nombre = 'Juan'\n",
    "\n",
    "def saludar():\n",
    "    return print('ola',nombre)\n",
    "\n",
    "saludar()"
   ]
  },
  {
   "cell_type": "code",
   "execution_count": 8,
   "id": "283f1d86",
   "metadata": {},
   "outputs": [
    {
     "name": "stdout",
     "output_type": "stream",
     "text": [
      "Que coño es un numero factorial?\n"
     ]
    }
   ],
   "source": [
    "def factorial(n):\n",
    "    if n < 0:\n",
    "        return \"el numero debe ser positivo\"\n",
    "    if n == 0 or n == 1:\n",
    "        return 1\n",
    "    else:\n",
    "        print(\"Que coño es un numero factorial?\")\n",
    "\n",
    "factorial(10)\n"
   ]
  },
  {
   "cell_type": "code",
   "execution_count": null,
   "id": "9427e655",
   "metadata": {},
   "outputs": [
    {
     "data": {
      "text/plain": [
       "330.0"
      ]
     },
     "execution_count": 9,
     "metadata": {},
     "output_type": "execute_result"
    }
   ],
   "source": [
    "def impuestos(factura, porcentaje=21):\n",
    "   iva = factura*(porcentaje/100)\n",
    "   total = factura + iva\n",
    "   return (total)"
   ]
  },
  {
   "cell_type": "code",
   "execution_count": 19,
   "id": "009fb271",
   "metadata": {},
   "outputs": [
    {
     "data": {
      "text/plain": [
       "549.7625"
      ]
     },
     "execution_count": 19,
     "metadata": {},
     "output_type": "execute_result"
    }
   ],
   "source": [
    "def area_circulo(radio):\n",
    "    pi = 3.1415\n",
    "    area = pi*(radio**2)\n",
    "    return area\n",
    "\n",
    "def volumen_del_circulo(radio,altura):\n",
    "    area = area_circulo(radio)\n",
    "    total = area*altura\n",
    "    return total\n",
    "\n",
    "\n",
    "area_circulo(5)\n",
    "volumen_del_circulo(5,7)"
   ]
  },
  {
   "cell_type": "code",
   "execution_count": null,
   "id": "1b645915",
   "metadata": {},
   "outputs": [
    {
     "data": {
      "text/plain": [
       "7.0"
      ]
     },
     "execution_count": 20,
     "metadata": {},
     "output_type": "execute_result"
    }
   ],
   "source": [
    "numeros = [ 4,5,6,7,7,8,9,10]\n",
    "\n",
    "def media():\n",
    "    suma = sum(numeros)\n",
    "    resultado = suma / len(numeros)\n",
    "    return resultado\n",
    "\n",
    "media()\n",
    "\n",
    "\n",
    "    "
   ]
  },
  {
   "cell_type": "code",
   "execution_count": 27,
   "id": "bf3a9631",
   "metadata": {},
   "outputs": [
    {
     "data": {
      "text/plain": [
       "[1.7320508075688772,\n",
       " 2.0,\n",
       " 2.23606797749979,\n",
       " 2.449489742783178,\n",
       " 2.6457513110645907,\n",
       " 4.58257569495584,\n",
       " 5.477225575051661,\n",
       " 3.1622776601683795,\n",
       " 7.0710678118654755]"
      ]
     },
     "execution_count": 27,
     "metadata": {},
     "output_type": "execute_result"
    }
   ],
   "source": [
    "numeros = [3,4,5,6,7,21,30,10,50]\n",
    "\n",
    "def cuadrados():\n",
    "    resultado = []\n",
    "    for numero in numeros:\n",
    "        raiz = numero ** 0.5\n",
    "        resultado.append(raiz)\n",
    "    return resultado\n",
    "        \n",
    "        \n",
    "\n",
    "cuadrados()"
   ]
  },
  {
   "cell_type": "code",
   "execution_count": 37,
   "id": "a257031c",
   "metadata": {},
   "outputs": [
    {
     "name": "stdout",
     "output_type": "stream",
     "text": [
      "5.0 0.3333333333333333 0.5773502691896257\n",
      "5.0 0.0 0.0\n",
      "5.0 0.3333333333333333 0.5773502691896257\n"
     ]
    }
   ],
   "source": [
    "numeros= [4,5,6,]\n",
    "\n",
    "def locura_total():\n",
    "    for numero in numeros:\n",
    "      promedio = sum(numeros) / len(numeros)\n",
    "      varianza = (numero-promedio)** 2/len(numeros)\n",
    "      desviacion = varianza ** 0.5\n",
    "      print(promedio, varianza, desviacion)\n",
    "      \n",
    "locura_total()\n",
    "\n",
    "    "
   ]
  },
  {
   "cell_type": "code",
   "execution_count": null,
   "id": "94750ea4",
   "metadata": {},
   "outputs": [],
   "source": []
  }
 ],
 "metadata": {
  "kernelspec": {
   "display_name": "Python 3",
   "language": "python",
   "name": "python3"
  },
  "language_info": {
   "codemirror_mode": {
    "name": "ipython",
    "version": 3
   },
   "file_extension": ".py",
   "mimetype": "text/x-python",
   "name": "python",
   "nbconvert_exporter": "python",
   "pygments_lexer": "ipython3",
   "version": "3.13.2"
  }
 },
 "nbformat": 4,
 "nbformat_minor": 5
}
