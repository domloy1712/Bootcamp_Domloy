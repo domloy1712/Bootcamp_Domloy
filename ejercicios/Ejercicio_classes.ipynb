{
 "cells": [
  {
   "cell_type": "code",
   "execution_count": 17,
   "id": "4340c1de",
   "metadata": {},
   "outputs": [
    {
     "name": "stdout",
     "output_type": "stream",
     "text": [
      "ola que tal Paco\n"
     ]
    }
   ],
   "source": [
    "class Persona:\n",
    "    def __init__(self,nombre):\n",
    "      self.nombre = nombre\n",
    "\n",
    "    def saludar(self):\n",
    "       return f\"ola que tal {self.nombre}\"\n",
    "\n",
    "p = Persona(\"Paco\")\n",
    "\n",
    "print(p.saludar())"
   ]
  },
  {
   "cell_type": "code",
   "execution_count": 10,
   "id": "9552e61e",
   "metadata": {},
   "outputs": [
    {
     "name": "stdout",
     "output_type": "stream",
     "text": [
      "78.5\n",
      "31.400000000000002\n"
     ]
    }
   ],
   "source": [
    "class Circulo:\n",
    "    def __init__(self,radio):\n",
    "        self.radio = radio\n",
    "        \n",
    "\n",
    "    def area(self):\n",
    "        pi = 3.14\n",
    "        return pi*(self.radio**2)\n",
    "        \n",
    "    \n",
    "    def perimetro(self):\n",
    "        pi = 3.14\n",
    "        return 2 * pi * self.radio\n",
    "    \n",
    "c = Circulo(5)\n",
    "print(c.area())        \n",
    "print(c.perimetro())   \n"
   ]
  },
  {
   "cell_type": "code",
   "execution_count": null,
   "id": "6e2e4396",
   "metadata": {},
   "outputs": [],
   "source": [
    "class cuenta_bancaria:\n",
    "    def __init__(self,titular,saldo):\n",
    "        self.titular = titular\n",
    "        self.saldo = saldo\n",
    "    \n",
    "    def depositar(cantidad,self):\n",
    "        "
   ]
  }
 ],
 "metadata": {
  "kernelspec": {
   "display_name": "Python 3",
   "language": "python",
   "name": "python3"
  },
  "language_info": {
   "codemirror_mode": {
    "name": "ipython",
    "version": 3
   },
   "file_extension": ".py",
   "mimetype": "text/x-python",
   "name": "python",
   "nbconvert_exporter": "python",
   "pygments_lexer": "ipython3",
   "version": "3.13.2"
  }
 },
 "nbformat": 4,
 "nbformat_minor": 5
}
