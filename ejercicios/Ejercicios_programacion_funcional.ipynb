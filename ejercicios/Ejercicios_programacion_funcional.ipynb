{
 "cells": [
  {
   "cell_type": "code",
   "execution_count": null,
   "id": "6967202f",
   "metadata": {},
   "outputs": [
    {
     "name": "stdout",
     "output_type": "stream",
     "text": [
      "{'Manzana': 2.1175, 'Platano': 4.84, 'Mandarina': 2.1175}\n"
     ]
    }
   ],
   "source": [
    "productos= {\n",
    "    \"Manzana\":{\"Precio\": 1.75},\n",
    "    \"Platano\":{\"Precio\": 4.00},\n",
    "    \"Mandarina\":{\"Precio\": 1.75}\n",
    "}\n",
    "\n",
    "def descuento():\n",
    "    productos_descuento = {}\n",
    "    \n",
    "    for fruta,dato in productos.items():\n",
    "     precio = dato[\"Precio\"]\n",
    "     descuento = precio*0.10\n",
    "     precio_final = precio-descuento\n",
    "     productos_descuento[fruta] = precio_final\n",
    " \n",
    "    return productos_descuento\n",
    "\n",
    "def iva():\n",
    "    precio_con_iva ={}\n",
    "\n",
    "    for fruta,dato in productos.items():\n",
    "       precio = dato[\"Precio\"]\n",
    "       iva = precio*0.21\n",
    "       precio_listo = precio+iva\n",
    "       precio_con_iva[fruta] = precio_listo\n",
    "    \n",
    "    return precio_con_iva\n",
    "\n",
    "def \n"
   ]
  },
  {
   "cell_type": "code",
   "execution_count": null,
   "id": "b358c8e4",
   "metadata": {},
   "outputs": [],
   "source": []
  }
 ],
 "metadata": {
  "kernelspec": {
   "display_name": "Python 3",
   "language": "python",
   "name": "python3"
  },
  "language_info": {
   "codemirror_mode": {
    "name": "ipython",
    "version": 3
   },
   "file_extension": ".py",
   "mimetype": "text/x-python",
   "name": "python",
   "nbconvert_exporter": "python",
   "pygments_lexer": "ipython3",
   "version": "3.13.2"
  }
 },
 "nbformat": 4,
 "nbformat_minor": 5
}
