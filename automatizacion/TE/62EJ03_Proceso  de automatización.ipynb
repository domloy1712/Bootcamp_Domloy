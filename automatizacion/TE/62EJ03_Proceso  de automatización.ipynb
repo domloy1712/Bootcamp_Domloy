{
 "cells": [
  {
   "cell_type": "code",
   "execution_count": 1,
   "metadata": {},
   "outputs": [],
   "source": [
    "import os\n",
    "\n",
    "# Renombrar archivos en un directorio\n",
    "def renombrar_archivos(directorio, prefijo):\n",
    "    for nombre_archivo in os.listdir(directorio):\n",
    "        nombre_nuevo = prefijo + nombre_archivo\n",
    "        os.rename(os.path.join(directorio, nombre_archivo), os.path.join(directorio, nombre_nuevo))\n",
    "\n",
    "# Uso de la función\n",
    "directorio = './work'\n",
    "prefijo = 'nuevo_'\n",
    "renombrar_archivos(directorio, prefijo)\n"
   ]
  },
  {
   "cell_type": "code",
   "execution_count": null,
   "metadata": {},
   "outputs": [],
   "source": []
  },
  {
   "cell_type": "code",
   "execution_count": 2,
   "metadata": {},
   "outputs": [
    {
     "name": "stdout",
     "output_type": "stream",
     "text": [
      "<h2 class=\"et_pb_slide_title\"><a href=\"https://fundacionesplai.org/blog/el-encuentro-de-la-ciudadania-digital-comprometida-reune-a-667-personas-involucradas-en-la-defensa-de-los-derechos-digitales/\">Encuentro de la ciudadanía digital comprometida</a></h2>\n",
      "<h2 class=\"et_pb_slide_title\">Ciudadanía Comprometida</h2>\n",
      "<h2 class=\"et_pb_slide_title\"><a href=\"https://fundacionesplai.org/que-hacemos/proyectos/enfocat/\">Nuevos Bootcamps</a></h2>\n",
      "<h2 class=\"et_pb_slide_title\">Inspiramos vocaciones científico-tecnológicas</h2>\n",
      "<h2 class=\"et_pb_slide_title\"><a href=\"https://redconecta.org/\">Plataforma Red Conecta</a></h2>\n",
      "<h2>FUNDACIÓN ESPLAI CIUDADANÍA COMPROMETIDA</h2>\n",
      "<h2>Actualidad</h2>\n",
      "<h2 class=\"entry-title\">\n",
      "<a href=\"https://fundacionesplai.org/blog/madrid/dia-mundial-de-la-libertad-reflexionando-sobre-los-efectos-de-la-privacion-de-libertad/\">Día Mundial de la Libertad: reflexionando sobre los efectos de la privación de libertad</a>\n",
      "</h2>\n",
      "<h2 class=\"entry-title\">\n",
      "<a href=\"https://fundacionesplai.org/blog/gestion-tercer-sector/curso-basico-herramientas-para-prevenir-la-violencia-de-genero-en-entornos-de-trabajo/\">Curso Básico: Herramientas para Prevenir la Violencia de Género en entornos de Trabajo</a>\n",
      "</h2>\n",
      "<h2 class=\"entry-title\">\n",
      "<a href=\"https://fundacionesplai.org/blog/infancia-y-jovenes-con-criterio-digital/\">Infancia y jóvenes con criterio digital</a>\n",
      "</h2>\n",
      "<h2 class=\"entry-title\">\n",
      "<a href=\"https://fundacionesplai.org/blog/lanzamos-prejuicios-cero-un-juego-para-luchar-y-quitarnos-los-prejuicios-de-todo-tipo/\">Lanzamos Prejuicios Cero, un juego para luchar y quitarnos los prejuicios de todo tipo</a>\n",
      "</h2>\n",
      "<h2 class=\"entry-title\">\n",
      "<a href=\"https://fundacionesplai.org/blog/cierre-tic-tac-capacitacion-digital-2024-tecnologia-para-la-autonomia-e-inclusion-de-las-personas-con-discapacidad/\">Cierre Tic Tac Capacitación Digital 2024: tecnología para la autonomía e inclusión de las personas con discapacidad</a>\n",
      "</h2>\n",
      "<h2 class=\"entry-title\">\n",
      "<a href=\"https://fundacionesplai.org/blog/justicia-educativa/para-los-arqueologos-del-futuro-un-podcast-de-testimonios-sobre-la-libertad/\">«Para los arqueólogos del futuro», un podcast de testimonios sobre la libertad</a>\n",
      "</h2>\n",
      "<h2>¿Qué hacemos?</h2>\n",
      "<h2>Colectivos con los que trabajamos</h2>\n",
      "<h2 style=\"margin-bottom: 0;\">Internacional</h2>\n",
      "<h2>¡SÍGUENOS!</h2>\n",
      "<h2>Somos Fundación Esplai</h2>\n"
     ]
    }
   ],
   "source": [
    "import requests\n",
    "from bs4 import BeautifulSoup\n",
    "\n",
    "# Obtener el contenido de una página web\n",
    "url = 'https://www.fundacionesplai.org'\n",
    "respuesta = requests.get(url)\n",
    "contenido = respuesta.content\n",
    "\n",
    "# Parsear el contenido HTML\n",
    "soup = BeautifulSoup(contenido, 'html.parser')\n",
    "\n",
    "# Extraer datos específicos (por ejemplo, todos los enlaces)\n",
    "enlaces = soup.find_all('h2')\n",
    "for enlace in enlaces:\n",
    "    print(enlace)\n"
   ]
  },
  {
   "cell_type": "code",
   "execution_count": 1,
   "metadata": {},
   "outputs": [
    {
     "name": "stdout",
     "output_type": "stream",
     "text": [
      "Defaulting to user installation because normal site-packages is not writeable\n",
      "Collecting pandas\n",
      "  Downloading pandas-2.3.0-cp313-cp313-win_amd64.whl.metadata (19 kB)\n",
      "Requirement already satisfied: numpy>=1.26.0 in c:\\users\\matins\\appdata\\roaming\\python\\python313\\site-packages (from pandas) (2.2.6)\n",
      "Requirement already satisfied: python-dateutil>=2.8.2 in c:\\users\\matins\\appdata\\roaming\\python\\python313\\site-packages (from pandas) (2.9.0.post0)\n",
      "Collecting pytz>=2020.1 (from pandas)\n",
      "  Downloading pytz-2025.2-py2.py3-none-any.whl.metadata (22 kB)\n",
      "Collecting tzdata>=2022.7 (from pandas)\n",
      "  Downloading tzdata-2025.2-py2.py3-none-any.whl.metadata (1.4 kB)\n",
      "Requirement already satisfied: six>=1.5 in c:\\users\\matins\\appdata\\roaming\\python\\python313\\site-packages (from python-dateutil>=2.8.2->pandas) (1.17.0)\n",
      "Downloading pandas-2.3.0-cp313-cp313-win_amd64.whl (11.0 MB)\n",
      "   ---------------------------------------- 0.0/11.0 MB ? eta -:--:--\n",
      "   ------------- -------------------------- 3.7/11.0 MB 18.5 MB/s eta 0:00:01\n",
      "   ------------------------------- -------- 8.7/11.0 MB 20.8 MB/s eta 0:00:01\n",
      "   ---------------------------------------- 11.0/11.0 MB 20.1 MB/s eta 0:00:00\n",
      "Downloading pytz-2025.2-py2.py3-none-any.whl (509 kB)\n",
      "Downloading tzdata-2025.2-py2.py3-none-any.whl (347 kB)\n",
      "Installing collected packages: pytz, tzdata, pandas\n",
      "Successfully installed pandas-2.3.0 pytz-2025.2 tzdata-2025.2\n",
      "Note: you may need to restart the kernel to use updated packages.\n"
     ]
    },
    {
     "name": "stderr",
     "output_type": "stream",
     "text": [
      "\n",
      "[notice] A new release of pip is available: 24.3.1 -> 25.1.1\n",
      "[notice] To update, run: python.exe -m pip install --upgrade pip\n"
     ]
    }
   ],
   "source": [
    "%pip install pandas\n"
   ]
  },
  {
   "cell_type": "code",
   "execution_count": null,
   "metadata": {},
   "outputs": [],
   "source": [
    "import requests\n",
    "import pandas as pd\n",
    "import matplotlib.pyplot as plt\n",
    "\n",
    "# Descargar archivo desde la web\n",
    "url = 'https://example.com/informe_ventas.csv'\n",
    "response = requests.get(url)\n",
    "\n",
    "# Guardar archivo localmente\n",
    "with open('informe_ventas.csv', 'wb') as file:\n",
    "    file.write(response.content)\n",
    "\n",
    "# Leer y procesar el archivo\n",
    "df = pd.read_csv('informe_ventas.csv')\n",
    "df.plot(kind='line', x='Fecha', y='Ventas')\n",
    "plt.savefig('grafico_ventas.png')\n"
   ]
  },
  {
   "cell_type": "code",
   "execution_count": 5,
   "metadata": {},
   "outputs": [
    {
     "name": "stdout",
     "output_type": "stream",
     "text": [
      "Collecting schedule\n",
      "  Downloading schedule-1.2.2-py3-none-any.whl.metadata (3.8 kB)\n",
      "Downloading schedule-1.2.2-py3-none-any.whl (12 kB)\n",
      "Installing collected packages: schedule\n",
      "Successfully installed schedule-1.2.2\n",
      "Note: you may need to restart the kernel to use updated packages.\n"
     ]
    }
   ],
   "source": [
    "%pip install schedule"
   ]
  },
  {
   "cell_type": "code",
   "execution_count": 9,
   "metadata": {},
   "outputs": [
    {
     "name": "stdout",
     "output_type": "stream",
     "text": [
      "Ejecutando script de automatización...\n"
     ]
    },
    {
     "ename": "KeyboardInterrupt",
     "evalue": "",
     "output_type": "error",
     "traceback": [
      "\u001b[1;31m---------------------------------------------------------------------------\u001b[0m",
      "\u001b[1;31mKeyboardInterrupt\u001b[0m                         Traceback (most recent call last)",
      "Cell \u001b[1;32mIn[9], line 13\u001b[0m\n\u001b[0;32m     11\u001b[0m \u001b[38;5;28;01mwhile\u001b[39;00m \u001b[38;5;28;01mTrue\u001b[39;00m:\n\u001b[0;32m     12\u001b[0m     schedule\u001b[38;5;241m.\u001b[39mrun_pending()\n\u001b[1;32m---> 13\u001b[0m     time\u001b[38;5;241m.\u001b[39msleep(\u001b[38;5;241m5\u001b[39m)\n",
      "\u001b[1;31mKeyboardInterrupt\u001b[0m: "
     ]
    }
   ],
   "source": [
    "import schedule\n",
    "import time\n",
    "\n",
    "def ejecutar_script():\n",
    "    # Aquí puedes llamar tu función de automatización\n",
    "    print(\"Ejecutando script de automatización...\")\n",
    "\n",
    "# Programar la ejecución\n",
    "schedule.every().day.at(\"18:11:30\").do(ejecutar_script)\n",
    "\n",
    "while True:\n",
    "    schedule.run_pending()\n",
    "    time.sleep(5)  # Esperar un minuto entre chequeos\n"
   ]
  },
  {
   "cell_type": "code",
   "execution_count": 10,
   "metadata": {},
   "outputs": [],
   "source": [
    "try:\n",
    "    response = requests.get(url)\n",
    "    response.raise_for_status()  # Esto lanzará un error si la respuesta no es correcta\n",
    "except requests.exceptions.RequestException as e:\n",
    "    print(f\"Error en la descarga: {e}\")\n"
   ]
  },
  {
   "cell_type": "code",
   "execution_count": 11,
   "metadata": {},
   "outputs": [
    {
     "ename": "PermissionError",
     "evalue": "[WinError 5] Acceso denegado: 'C:/Users/Usuario'",
     "output_type": "error",
     "traceback": [
      "\u001b[1;31m---------------------------------------------------------------------------\u001b[0m",
      "\u001b[1;31mPermissionError\u001b[0m                           Traceback (most recent call last)",
      "Cell \u001b[1;32mIn[11], line 10\u001b[0m\n\u001b[0;32m      8\u001b[0m \u001b[38;5;66;03m# Crear el directorio de destino si no existe\u001b[39;00m\n\u001b[0;32m      9\u001b[0m \u001b[38;5;28;01mif\u001b[39;00m \u001b[38;5;129;01mnot\u001b[39;00m os\u001b[38;5;241m.\u001b[39mpath\u001b[38;5;241m.\u001b[39mexists(dest_dir):\n\u001b[1;32m---> 10\u001b[0m     os\u001b[38;5;241m.\u001b[39mmakedirs(dest_dir)\n\u001b[0;32m     12\u001b[0m \u001b[38;5;66;03m# Mover archivos desde el directorio de origen al de destino\u001b[39;00m\n\u001b[0;32m     13\u001b[0m \u001b[38;5;28;01mfor\u001b[39;00m filename \u001b[38;5;129;01min\u001b[39;00m os\u001b[38;5;241m.\u001b[39mlistdir(source_dir):\n",
      "File \u001b[1;32m<frozen os>:215\u001b[0m, in \u001b[0;36mmakedirs\u001b[1;34m(name, mode, exist_ok)\u001b[0m\n",
      "File \u001b[1;32m<frozen os>:215\u001b[0m, in \u001b[0;36mmakedirs\u001b[1;34m(name, mode, exist_ok)\u001b[0m\n",
      "File \u001b[1;32m<frozen os>:225\u001b[0m, in \u001b[0;36mmakedirs\u001b[1;34m(name, mode, exist_ok)\u001b[0m\n",
      "\u001b[1;31mPermissionError\u001b[0m: [WinError 5] Acceso denegado: 'C:/Users/Usuario'"
     ]
    }
   ],
   "source": [
    "import os\n",
    "import shutil\n",
    "\n",
    "# Definir el directorio de origen y destino\n",
    "source_dir = 'C:/Users/Usuario/Descargas'\n",
    "dest_dir = 'C:/Users/Usuario/Documents/Backups'\n",
    "\n",
    "# Crear el directorio de destino si no existe\n",
    "if not os.path.exists(dest_dir):\n",
    "    os.makedirs(dest_dir)\n",
    "\n",
    "# Mover archivos desde el directorio de origen al de destino\n",
    "for filename in os.listdir(source_dir):\n",
    "    full_file_path = os.path.join(source_dir, filename)\n",
    "    shutil.move(full_file_path, dest_dir)\n",
    "\n",
    "print(\"Archivos movidos con éxito\")\n"
   ]
  },
  {
   "cell_type": "code",
   "execution_count": null,
   "metadata": {},
   "outputs": [
    {
     "ename": "SyntaxError",
     "evalue": "expected ':' (3780164408.py, line 33)",
     "output_type": "error",
     "traceback": [
      "\u001b[1;36m  Cell \u001b[1;32mIn[6], line 33\u001b[1;36m\u001b[0m\n\u001b[1;33m    else\u001b[0m\n\u001b[1;37m        ^\u001b[0m\n\u001b[1;31mSyntaxError\u001b[0m\u001b[1;31m:\u001b[0m expected ':'\n"
     ]
    }
   ],
   "source": [
    "import os\n",
    "import shutil\n",
    "\n",
    "# Definir el directorio de origen y destino\n",
    "source_dir = 'C:/Users/Usuario/Descargas'\n",
    "dest_dir = 'C:/Users/Usuario/Documents/Backups'\n",
    "\n",
    "# Crear el directorio de destino si no existe\n",
    "os.makedirs(dest_dir, exist_ok=True)\n",
    "\n",
    "# Mover archivos desde el directorio de origen al de destino\n",
    "for filename in os.listdir(source_dir):\n",
    "    full_file_path = os.path.join(source_dir, filename)\n",
    "    dest_file_path = os.path.join(dest_dir, filename)\n",
    "\n",
    "    # Verificar que sea un archivo (no carpeta)\n",
    "    if os.path.isfile(full_file_path):\n",
    "        try:\n",
    "            # Evitar sobrescribir archivos renombrándolos si ya existen\n",
    "            if os.path.exists(dest_file_path):\n",
    "                base, ext = os.path.splitext(filename)\n",
    "                counter = 1\n",
    "                new_filename = f\"{base}_{counter}{ext}\"\n",
    "                new_dest_path = os.path.join(dest_dir, new_filename)\n",
    "\n",
    "                while os.path.exists(new_dest_path):\n",
    "                    counter += 1\n",
    "                    new_filename = f\"{base}_{counter}{ext}\"\n",
    "                    new_dest_path = os.path.join(dest_dir, new_filename)\n",
    "\n",
    "                shutil.move(full_file_path, new_dest_path)\n",
    "                print(f\"Movido: {filename} -> {new_filename}\")\n",
    "            else\n"
   ]
  },
  {
   "cell_type": "code",
   "execution_count": 5,
   "metadata": {},
   "outputs": [
    {
     "name": "stdout",
     "output_type": "stream",
     "text": [
      "Permisos cambiados para C:/Usuarios/Mihif/\n"
     ]
    }
   ],
   "source": [
    "import os\n",
    "import subprocess\n",
    "\n",
    "dest_dir = 'C:/Usuarios/Mihif/'\n",
    "\n",
    "# Crear la carpeta si no existe\n",
    "if not os.path.exists(dest_dir):\n",
    "    os.makedirs(dest_dir)\n",
    "\n",
    "# Dar permisos completos al usuario actual\n",
    "try:\n",
    "    subprocess.run(f'icacls \"{dest_dir}\" /grant %USERNAME%:F', shell=True, check=True)\n",
    "    print(f\"Permisos cambiados para {dest_dir}\")\n",
    "except subprocess.CalledProcessError as e:\n",
    "    print(f\"Error al cambiar permisos: {e}\")\n"
   ]
  },
  {
   "cell_type": "code",
   "execution_count": 2,
   "metadata": {},
   "outputs": [
    {
     "name": "stdout",
     "output_type": "stream",
     "text": [
      "Defaulting to user installation because normal site-packages is not writeable\n",
      "Collecting bs4\n",
      "  Downloading bs4-0.0.2-py2.py3-none-any.whl.metadata (411 bytes)\n",
      "Collecting beautifulsoup4 (from bs4)\n",
      "  Downloading beautifulsoup4-4.13.4-py3-none-any.whl.metadata (3.8 kB)\n",
      "Collecting soupsieve>1.2 (from beautifulsoup4->bs4)\n",
      "  Downloading soupsieve-2.7-py3-none-any.whl.metadata (4.6 kB)\n",
      "Collecting typing-extensions>=4.0.0 (from beautifulsoup4->bs4)\n",
      "  Downloading typing_extensions-4.14.0-py3-none-any.whl.metadata (3.0 kB)\n",
      "Downloading bs4-0.0.2-py2.py3-none-any.whl (1.2 kB)\n",
      "Downloading beautifulsoup4-4.13.4-py3-none-any.whl (187 kB)\n",
      "Downloading soupsieve-2.7-py3-none-any.whl (36 kB)\n",
      "Downloading typing_extensions-4.14.0-py3-none-any.whl (43 kB)\n",
      "Installing collected packages: typing-extensions, soupsieve, beautifulsoup4, bs4\n",
      "Successfully installed beautifulsoup4-4.13.4 bs4-0.0.2 soupsieve-2.7 typing-extensions-4.14.0\n",
      "Note: you may need to restart the kernel to use updated packages.\n"
     ]
    },
    {
     "name": "stderr",
     "output_type": "stream",
     "text": [
      "\n",
      "[notice] A new release of pip is available: 24.3.1 -> 25.1.1\n",
      "[notice] To update, run: python.exe -m pip install --upgrade pip\n"
     ]
    }
   ],
   "source": [
    "%pip install bs4"
   ]
  },
  {
   "cell_type": "code",
   "execution_count": null,
   "metadata": {},
   "outputs": [],
   "source": [
    "import requests\n",
    "from bs4 import BeautifulSoup\n",
    "\n",
    "# Definir la URL de la página web a extraer datos\n",
    "url = 'https://example.com'\n",
    "\n",
    "# Hacer la solicitud HTTP a la página\n",
    "response = requests.get(url)\n",
    "\n",
    "# Crear el objeto BeautifulSoup para analizar la página\n",
    "soup = BeautifulSoup(response.content, 'html.parser')\n",
    "\n",
    "# Extraer todos los títulos de la página\n",
    "titulos = soup.find_all('h2')\n",
    "\n",
    "# Mostrar los títulos encontrados\n",
    "for titulo in titulos:\n",
    "    print(titulo.text)\n"
   ]
  },
  {
   "cell_type": "code",
   "execution_count": null,
   "metadata": {},
   "outputs": [],
   "source": [
    "import pandas as pd\n",
    "from datetime import datetime\n",
    "\n",
    "# Leer un archivo Excel con datos de ventas\n",
    "df = pd.read_excel('ventas_diarias.xlsx')\n",
    "\n",
    "# Filtrar las ventas de hoy\n",
    "hoy = datetime.today().date()\n",
    "ventas_hoy = df[df['Fecha'] == hoy]\n",
    "\n",
    "# Calcular el total de ventas\n",
    "total_ventas_hoy = ventas_hoy['Monto'].sum()\n",
    "\n",
    "# Generar un reporte\n",
    "reporte = f\"Reporte de ventas del {hoy}\\nTotal de ventas: {total_ventas_hoy}\"\n",
    "\n",
    "# Guardar el reporte en un archivo de texto\n",
    "with open(f'reporte_{hoy}.txt', 'w') as file:\n",
    "    file.write(reporte)\n",
    "\n",
    "print(\"Reporte generado con éxito\")\n"
   ]
  },
  {
   "cell_type": "code",
   "execution_count": null,
   "metadata": {},
   "outputs": [],
   "source": [
    "import schedule\n",
    "import time\n",
    "\n",
    "def tarea():\n",
    "    print(\"Ejecutando tarea programada\")\n",
    "\n",
    "# Programar la tarea para que se ejecute todos los días a las 9:00 AM\n",
    "schedule.every().day.at(\"09:00\").do(tarea)\n",
    "\n",
    "while True:\n",
    "    # Comprobar si hay alguna tarea pendiente para ejecutar\n",
    "    schedule.run_pending()\n",
    "    time.sleep(1)\n"
   ]
  },
  {
   "cell_type": "code",
   "execution_count": null,
   "metadata": {},
   "outputs": [],
   "source": []
  },
  {
   "cell_type": "code",
   "execution_count": null,
   "metadata": {},
   "outputs": [],
   "source": []
  }
 ],
 "metadata": {
  "kernelspec": {
   "display_name": "Python 3",
   "language": "python",
   "name": "python3"
  },
  "language_info": {
   "codemirror_mode": {
    "name": "ipython",
    "version": 3
   },
   "file_extension": ".py",
   "mimetype": "text/x-python",
   "name": "python",
   "nbconvert_exporter": "python",
   "pygments_lexer": "ipython3",
   "version": "3.13.2"
  }
 },
 "nbformat": 4,
 "nbformat_minor": 2
}
