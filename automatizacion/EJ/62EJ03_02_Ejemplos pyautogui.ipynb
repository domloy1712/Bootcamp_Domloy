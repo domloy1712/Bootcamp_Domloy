{
 "cells": [
  {
   "cell_type": "code",
   "execution_count": 1,
   "id": "50c197f2",
   "metadata": {},
   "outputs": [
    {
     "name": "stdout",
     "output_type": "stream",
     "text": [
      "Requirement already satisfied: pyautogui in c:\\users\\mihif\\anaconda3\\lib\\site-packages (0.9.54)\n",
      "Requirement already satisfied: pymsgbox in c:\\users\\mihif\\anaconda3\\lib\\site-packages (from pyautogui) (1.0.9)\n",
      "Requirement already satisfied: pytweening>=1.0.4 in c:\\users\\mihif\\anaconda3\\lib\\site-packages (from pyautogui) (1.2.0)\n",
      "Requirement already satisfied: pyscreeze>=0.1.21 in c:\\users\\mihif\\anaconda3\\lib\\site-packages (from pyautogui) (1.0.1)\n",
      "Requirement already satisfied: pygetwindow>=0.0.5 in c:\\users\\mihif\\anaconda3\\lib\\site-packages (from pyautogui) (0.0.9)\n",
      "Requirement already satisfied: mouseinfo in c:\\users\\mihif\\anaconda3\\lib\\site-packages (from pyautogui) (0.1.3)\n",
      "Requirement already satisfied: pyrect in c:\\users\\mihif\\anaconda3\\lib\\site-packages (from pygetwindow>=0.0.5->pyautogui) (0.2.0)\n",
      "Requirement already satisfied: pyperclip in c:\\users\\mihif\\anaconda3\\lib\\site-packages (from mouseinfo->pyautogui) (1.9.0)\n",
      "Note: you may need to restart the kernel to use updated packages.\n"
     ]
    }
   ],
   "source": [
    "%pip install pyautogui\n"
   ]
  },
  {
   "cell_type": "code",
   "execution_count": 2,
   "id": "ba421395",
   "metadata": {},
   "outputs": [],
   "source": [
    "from time import sleep\n",
    "import os\n",
    "import pyautogui as pygui\n",
    "import numpy as np"
   ]
  },
  {
   "cell_type": "code",
   "execution_count": 3,
   "id": "cb2869c2",
   "metadata": {},
   "outputs": [],
   "source": [
    "# Devuelve las dimensiones de la pantalla\n",
    "ancho, alto = pygui.size()\n",
    "# Devuelve la posición actual\n",
    "Xactual, Yactual = pygui.position()\n",
    "# Mover a coordenadas (pixels)"
   ]
  },
  {
   "cell_type": "code",
   "execution_count": 4,
   "id": "88c616b1",
   "metadata": {},
   "outputs": [
    {
     "data": {
      "text/plain": [
       "1920"
      ]
     },
     "execution_count": 4,
     "metadata": {},
     "output_type": "execute_result"
    }
   ],
   "source": [
    "ancho\n"
   ]
  },
  {
   "cell_type": "code",
   "execution_count": 5,
   "id": "44d2f8bd",
   "metadata": {},
   "outputs": [
    {
     "data": {
      "text/plain": [
       "1080"
      ]
     },
     "execution_count": 5,
     "metadata": {},
     "output_type": "execute_result"
    }
   ],
   "source": [
    "alto"
   ]
  },
  {
   "cell_type": "code",
   "execution_count": 6,
   "id": "92d6e926",
   "metadata": {},
   "outputs": [
    {
     "data": {
      "text/plain": [
       "2045"
      ]
     },
     "execution_count": 6,
     "metadata": {},
     "output_type": "execute_result"
    }
   ],
   "source": [
    "Xactual"
   ]
  },
  {
   "cell_type": "code",
   "execution_count": null,
   "id": "2d9199db",
   "metadata": {},
   "outputs": [],
   "source": [
    "\n"
   ]
  },
  {
   "cell_type": "code",
   "execution_count": 7,
   "id": "0adb4e31",
   "metadata": {},
   "outputs": [
    {
     "data": {
      "text/plain": [
       "371"
      ]
     },
     "execution_count": 7,
     "metadata": {},
     "output_type": "execute_result"
    }
   ],
   "source": [
    "Yactual"
   ]
  },
  {
   "cell_type": "code",
   "execution_count": 11,
   "id": "8c40f7a9",
   "metadata": {},
   "outputs": [],
   "source": [
    "pygui.moveTo(500, 65)\n",
    "# Clickear\n",
    "pygui.click() \n",
    "# Tipear con delay\n",
    "pygui.write('fundacionesplai.org', interval=0.25)  \n",
    "pygui.press('enter') \n",
    "pygui.press('enter') "
   ]
  },
  {
   "cell_type": "code",
   "execution_count": 12,
   "id": "237e02cc",
   "metadata": {},
   "outputs": [
    {
     "ename": "TypeError",
     "evalue": "locateOnScreen() missing 1 required positional argument: 'image'",
     "output_type": "error",
     "traceback": [
      "\u001b[1;31m---------------------------------------------------------------------------\u001b[0m",
      "\u001b[1;31mTypeError\u001b[0m                                 Traceback (most recent call last)",
      "Cell \u001b[1;32mIn[12], line 4\u001b[0m\n\u001b[0;32m      2\u001b[0m pygui\u001b[38;5;241m.\u001b[39mpress(\u001b[38;5;124m'\u001b[39m\u001b[38;5;124mesc\u001b[39m\u001b[38;5;124m'\u001b[39m) \n\u001b[0;32m      3\u001b[0m pygui\u001b[38;5;241m.\u001b[39mhotkey(\u001b[38;5;124m'\u001b[39m\u001b[38;5;124mctrl\u001b[39m\u001b[38;5;124m'\u001b[39m, \u001b[38;5;124m'\u001b[39m\u001b[38;5;124mc\u001b[39m\u001b[38;5;124m'\u001b[39m)\n\u001b[1;32m----> 4\u001b[0m pygui\u001b[38;5;241m.\u001b[39mlocateOnScreen()\n",
      "File \u001b[1;32mc:\\Users\\mihif\\anaconda3\\Lib\\site-packages\\pyautogui\\__init__.py:172\u001b[0m, in \u001b[0;36mraisePyAutoGUIImageNotFoundException.<locals>.wrapper\u001b[1;34m(*args, **kwargs)\u001b[0m\n\u001b[0;32m    169\u001b[0m \u001b[38;5;129m@functools\u001b[39m\u001b[38;5;241m.\u001b[39mwraps(wrappedFunction)\n\u001b[0;32m    170\u001b[0m \u001b[38;5;28;01mdef\u001b[39;00m \u001b[38;5;21mwrapper\u001b[39m(\u001b[38;5;241m*\u001b[39margs, \u001b[38;5;241m*\u001b[39m\u001b[38;5;241m*\u001b[39mkwargs):\n\u001b[0;32m    171\u001b[0m     \u001b[38;5;28;01mtry\u001b[39;00m:\n\u001b[1;32m--> 172\u001b[0m         \u001b[38;5;28;01mreturn\u001b[39;00m wrappedFunction(\u001b[38;5;241m*\u001b[39margs, \u001b[38;5;241m*\u001b[39m\u001b[38;5;241m*\u001b[39mkwargs)\n\u001b[0;32m    173\u001b[0m     \u001b[38;5;28;01mexcept\u001b[39;00m pyscreeze\u001b[38;5;241m.\u001b[39mImageNotFoundException:\n\u001b[0;32m    174\u001b[0m         \u001b[38;5;28;01mraise\u001b[39;00m ImageNotFoundException\n",
      "File \u001b[1;32mc:\\Users\\mihif\\anaconda3\\Lib\\site-packages\\pyautogui\\__init__.py:210\u001b[0m, in \u001b[0;36mlocateOnScreen\u001b[1;34m(*args, **kwargs)\u001b[0m\n\u001b[0;32m    208\u001b[0m \u001b[38;5;129m@raisePyAutoGUIImageNotFoundException\u001b[39m\n\u001b[0;32m    209\u001b[0m \u001b[38;5;28;01mdef\u001b[39;00m \u001b[38;5;21mlocateOnScreen\u001b[39m(\u001b[38;5;241m*\u001b[39margs, \u001b[38;5;241m*\u001b[39m\u001b[38;5;241m*\u001b[39mkwargs):\n\u001b[1;32m--> 210\u001b[0m     \u001b[38;5;28;01mreturn\u001b[39;00m pyscreeze\u001b[38;5;241m.\u001b[39mlocateOnScreen(\u001b[38;5;241m*\u001b[39margs, \u001b[38;5;241m*\u001b[39m\u001b[38;5;241m*\u001b[39mkwargs)\n",
      "\u001b[1;31mTypeError\u001b[0m: locateOnScreen() missing 1 required positional argument: 'image'"
     ]
    }
   ],
   "source": [
    "# Apretar una tecla\n",
    "pygui.press('esc') \n",
    "pygui.hotkey('ctrl', 'c')\n",
    "pygui.locateOnScreen()"
   ]
  },
  {
   "cell_type": "code",
   "execution_count": 15,
   "id": "f0059b3e",
   "metadata": {},
   "outputs": [],
   "source": [
    "def cuadrado(l):\n",
    "    pygui.drag(l, 0, duration=1)\n",
    "    pygui.drag(0, l, duration=1)\n",
    "    pygui.drag(-l, 0, duration=1)\n",
    "    pygui.drag(0, -l, duration=1)"
   ]
  },
  {
   "cell_type": "code",
   "execution_count": 16,
   "id": "f98d78b9",
   "metadata": {},
   "outputs": [],
   "source": [
    "cuadrado(800)"
   ]
  },
  {
   "cell_type": "code",
   "execution_count": 18,
   "id": "066e6772",
   "metadata": {},
   "outputs": [],
   "source": [
    "url = r'https://www.google.es/'"
   ]
  },
  {
   "cell_type": "code",
   "execution_count": 19,
   "id": "56503c78",
   "metadata": {},
   "outputs": [],
   "source": [
    "sleep(2)\n",
    "pygui.hotkey('ctrl', 't')\n",
    "sleep(2)\n",
    "pygui.write(url)\n",
    "sleep(2)\n",
    "pygui.press('enter')"
   ]
  },
  {
   "cell_type": "code",
   "execution_count": 28,
   "id": "d21c7979",
   "metadata": {},
   "outputs": [],
   "source": [
    "def abrir_paint():\n",
    "    # Windows\n",
    "    os.system('start mspaint.exe')\n",
    "    sleep(1)\n",
    "    S = pygui.size()\n",
    "    pygui.moveTo(S[0]//2, S[1]//2)"
   ]
  },
  {
   "cell_type": "code",
   "execution_count": 24,
   "id": "4f461cb6",
   "metadata": {},
   "outputs": [],
   "source": [
    "abrir_paint()"
   ]
  },
  {
   "cell_type": "code",
   "execution_count": 29,
   "id": "23b29b44",
   "metadata": {},
   "outputs": [],
   "source": [
    "def cuadrado_espiral(l, ratio=0.9):\n",
    "    pygui.move(-l//2, -l//2, duration=0.1)\n",
    "    for i in range(50):\n",
    "        l = l*ratio\n",
    "        pygui.drag(l, 0, duration=0.1)\n",
    "        l = l*ratio\n",
    "        pygui.drag(0, l, duration=0.1)\n",
    "        l = l*ratio\n",
    "        pygui.drag(-l, 0, duration=0.1)\n",
    "        l = l*ratio\n",
    "        pygui.drag(0, -l, duration=0.1)\n",
    "        if l < 5:\n",
    "            break"
   ]
  },
  {
   "cell_type": "code",
   "execution_count": 30,
   "id": "83cc9801",
   "metadata": {},
   "outputs": [],
   "source": [
    "sleep(2)\n",
    "abrir_paint()\n",
    "cuadrado_espiral(600)"
   ]
  },
  {
   "cell_type": "code",
   "execution_count": 32,
   "id": "6b7ed4d0",
   "metadata": {},
   "outputs": [
    {
     "data": {
      "text/plain": [
       "'OK'"
      ]
     },
     "execution_count": 32,
     "metadata": {},
     "output_type": "execute_result"
    }
   ],
   "source": [
    "pygui.confirm('This displays text and has an OK and Cancel button.')\n"
   ]
  },
  {
   "cell_type": "code",
   "execution_count": 33,
   "id": "aac26278",
   "metadata": {},
   "outputs": [
    {
     "data": {
      "text/plain": [
       "'jiiiijii'"
      ]
     },
     "execution_count": 33,
     "metadata": {},
     "output_type": "execute_result"
    }
   ],
   "source": [
    "pygui.prompt('This lets the user type in a string and press OK.')\n"
   ]
  },
  {
   "cell_type": "code",
   "execution_count": 34,
   "id": "2c1cb991",
   "metadata": {},
   "outputs": [
    {
     "data": {
      "text/plain": [
       "'OK'"
      ]
     },
     "execution_count": 34,
     "metadata": {},
     "output_type": "execute_result"
    }
   ],
   "source": [
    "pygui.alert('This displays some text with an OK button.')"
   ]
  },
  {
   "cell_type": "code",
   "execution_count": 35,
   "id": "2198dbac",
   "metadata": {},
   "outputs": [
    {
     "data": {
      "text/plain": [
       "['\\t',\n",
       " '\\n',\n",
       " '\\r',\n",
       " ' ',\n",
       " '!',\n",
       " '\"',\n",
       " '#',\n",
       " '$',\n",
       " '%',\n",
       " '&',\n",
       " \"'\",\n",
       " '(',\n",
       " ')',\n",
       " '*',\n",
       " '+',\n",
       " ',',\n",
       " '-',\n",
       " '.',\n",
       " '/',\n",
       " '0',\n",
       " '1',\n",
       " '2',\n",
       " '3',\n",
       " '4',\n",
       " '5',\n",
       " '6',\n",
       " '7',\n",
       " '8',\n",
       " '9',\n",
       " ':',\n",
       " ';',\n",
       " '<',\n",
       " '=',\n",
       " '>',\n",
       " '?',\n",
       " '@',\n",
       " '[',\n",
       " '\\\\',\n",
       " ']',\n",
       " '^',\n",
       " '_',\n",
       " '`',\n",
       " 'a',\n",
       " 'b',\n",
       " 'c',\n",
       " 'd',\n",
       " 'e',\n",
       " 'f',\n",
       " 'g',\n",
       " 'h',\n",
       " 'i',\n",
       " 'j',\n",
       " 'k',\n",
       " 'l',\n",
       " 'm',\n",
       " 'n',\n",
       " 'o',\n",
       " 'p',\n",
       " 'q',\n",
       " 'r',\n",
       " 's',\n",
       " 't',\n",
       " 'u',\n",
       " 'v',\n",
       " 'w',\n",
       " 'x',\n",
       " 'y',\n",
       " 'z',\n",
       " '{',\n",
       " '|',\n",
       " '}',\n",
       " '~',\n",
       " 'accept',\n",
       " 'add',\n",
       " 'alt',\n",
       " 'altleft',\n",
       " 'altright',\n",
       " 'apps',\n",
       " 'backspace',\n",
       " 'browserback',\n",
       " 'browserfavorites',\n",
       " 'browserforward',\n",
       " 'browserhome',\n",
       " 'browserrefresh',\n",
       " 'browsersearch',\n",
       " 'browserstop',\n",
       " 'capslock',\n",
       " 'clear',\n",
       " 'convert',\n",
       " 'ctrl',\n",
       " 'ctrlleft',\n",
       " 'ctrlright',\n",
       " 'decimal',\n",
       " 'del',\n",
       " 'delete',\n",
       " 'divide',\n",
       " 'down',\n",
       " 'end',\n",
       " 'enter',\n",
       " 'esc',\n",
       " 'escape',\n",
       " 'execute',\n",
       " 'f1',\n",
       " 'f10',\n",
       " 'f11',\n",
       " 'f12',\n",
       " 'f13',\n",
       " 'f14',\n",
       " 'f15',\n",
       " 'f16',\n",
       " 'f17',\n",
       " 'f18',\n",
       " 'f19',\n",
       " 'f2',\n",
       " 'f20',\n",
       " 'f21',\n",
       " 'f22',\n",
       " 'f23',\n",
       " 'f24',\n",
       " 'f3',\n",
       " 'f4',\n",
       " 'f5',\n",
       " 'f6',\n",
       " 'f7',\n",
       " 'f8',\n",
       " 'f9',\n",
       " 'final',\n",
       " 'fn',\n",
       " 'hanguel',\n",
       " 'hangul',\n",
       " 'hanja',\n",
       " 'help',\n",
       " 'home',\n",
       " 'insert',\n",
       " 'junja',\n",
       " 'kana',\n",
       " 'kanji',\n",
       " 'launchapp1',\n",
       " 'launchapp2',\n",
       " 'launchmail',\n",
       " 'launchmediaselect',\n",
       " 'left',\n",
       " 'modechange',\n",
       " 'multiply',\n",
       " 'nexttrack',\n",
       " 'nonconvert',\n",
       " 'num0',\n",
       " 'num1',\n",
       " 'num2',\n",
       " 'num3',\n",
       " 'num4',\n",
       " 'num5',\n",
       " 'num6',\n",
       " 'num7',\n",
       " 'num8',\n",
       " 'num9',\n",
       " 'numlock',\n",
       " 'pagedown',\n",
       " 'pageup',\n",
       " 'pause',\n",
       " 'pgdn',\n",
       " 'pgup',\n",
       " 'playpause',\n",
       " 'prevtrack',\n",
       " 'print',\n",
       " 'printscreen',\n",
       " 'prntscrn',\n",
       " 'prtsc',\n",
       " 'prtscr',\n",
       " 'return',\n",
       " 'right',\n",
       " 'scrolllock',\n",
       " 'select',\n",
       " 'separator',\n",
       " 'shift',\n",
       " 'shiftleft',\n",
       " 'shiftright',\n",
       " 'sleep',\n",
       " 'space',\n",
       " 'stop',\n",
       " 'subtract',\n",
       " 'tab',\n",
       " 'up',\n",
       " 'volumedown',\n",
       " 'volumemute',\n",
       " 'volumeup',\n",
       " 'win',\n",
       " 'winleft',\n",
       " 'winright',\n",
       " 'yen',\n",
       " 'command',\n",
       " 'option',\n",
       " 'optionleft',\n",
       " 'optionright']"
      ]
     },
     "execution_count": 35,
     "metadata": {},
     "output_type": "execute_result"
    }
   ],
   "source": [
    "pygui.KEYBOARD_KEYS"
   ]
  },
  {
   "cell_type": "code",
   "execution_count": null,
   "id": "4108bc95",
   "metadata": {},
   "outputs": [],
   "source": []
  }
 ],
 "metadata": {
  "kernelspec": {
   "display_name": "base",
   "language": "python",
   "name": "python3"
  },
  "language_info": {
   "codemirror_mode": {
    "name": "ipython",
    "version": 3
   },
   "file_extension": ".py",
   "mimetype": "text/x-python",
   "name": "python",
   "nbconvert_exporter": "python",
   "pygments_lexer": "ipython3",
   "version": "3.12.7"
  }
 },
 "nbformat": 4,
 "nbformat_minor": 5
}
