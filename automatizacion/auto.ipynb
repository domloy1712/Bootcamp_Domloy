{
 "cells": [
  {
   "cell_type": "code",
   "execution_count": 5,
   "metadata": {},
   "outputs": [
    {
     "name": "stdout",
     "output_type": "stream",
     "text": [
      "Error al enviar el correo: (535, b'5.7.8 Username and Password not accepted. For more information, go to\\n5.7.8  https://support.google.com/mail/?p=BadCredentials 5b1f17b1804b1-451f9919671sm15593815e9.27 - gsmtp')\n"
     ]
    }
   ],
   "source": [
    "import smtplib\n",
    "from email.mime.multipart import MIMEMultipart\n",
    "from email.mime.text import MIMEText\n",
    "\n",
    "# Datos de la cuenta\n",
    "mi_correo = 'xipflado@gmail.com'\n",
    "mi_password = '180690Xip_'\n",
    "\n",
    "# Crear el mensaje\n",
    "mensaje = MIMEMultipart()\n",
    "mensaje['From'] = mi_correo\n",
    "mensaje['To'] = 'xipflado@gmail.com'\n",
    "mensaje['Subject'] = 'Asunto del correo'\n",
    "\n",
    "# Cuerpo del correo\n",
    "cuerpo = 'Este es un correo enviado automáticamente usando Python.'\n",
    "mensaje.attach(MIMEText(cuerpo, 'plain'))\n",
    "\n",
    "# Conexión al servidor SMTP de Gmail\n",
    "try:\n",
    "    servidor = smtplib.SMTP('smtp.gmail.com', 587)\n",
    "    servidor.starttls()  # Iniciar la conexión segura\n",
    "    servidor.login(mi_correo, mi_password)\n",
    "    texto = mensaje.as_string()\n",
    "    servidor.sendmail(mi_correo, 'xipflado@gmail.com', texto)\n",
    "    servidor.quit()\n",
    "    print('Correo enviado exitosamente.')\n",
    "except Exception as e:\n",
    "    print(f'Error al enviar el correo: {e}')\n"
   ]
  },
  {
   "cell_type": "markdown",
   "metadata": {},
   "source": [
    "### Jugar con ventanas del sistema\n",
    "Este script abre la calculadora de Windows (solo funciona en Windows) y realiza una serie de operaciones:"
   ]
  },
  {
   "cell_type": "code",
   "execution_count": 4,
   "metadata": {},
   "outputs": [],
   "source": [
    "import pyautogui\n",
    "import os\n",
    "import time\n",
    "\n",
    "# Abrir la calculadora (solo en Windows)\n",
    "os.system('start calc')\n",
    "\n",
    "# Esperar a que se abra la calculadora\n",
    "time.sleep(2)\n",
    "\n",
    "# Realizar operaciones\n",
    "pyautogui.press('1')\n",
    "pyautogui.press('+')\n",
    "pyautogui.press('2')\n",
    "pyautogui.press('enter')\n",
    "\n",
    "# Capturar una captura de pantalla del resultado\n",
    "time.sleep(1)\n",
    "screenshot = pyautogui.screenshot()\n",
    "screenshot.save('calculation_result.png')\n",
    "\n",
    "# Cerrar la calculadora\n",
    "pyautogui.hotkey('alt', 'f4')\n"
   ]
  },
  {
   "cell_type": "markdown",
   "metadata": {},
   "source": [
    "### Escribir un mensaje en bucle\n",
    "Este script abrirá el Bloc de notas (en Windows) y escribirá un mensaje en bucle:"
   ]
  },
  {
   "cell_type": "code",
   "execution_count": 2,
   "metadata": {},
   "outputs": [
    {
     "name": "stdout",
     "output_type": "stream",
     "text": [
      "Defaulting to user installation because normal site-packages is not writeable\n",
      "Collecting pyautogui\n",
      "  Downloading PyAutoGUI-0.9.54.tar.gz (61 kB)\n",
      "  Installing build dependencies: started\n",
      "  Installing build dependencies: finished with status 'done'\n",
      "  Getting requirements to build wheel: started\n",
      "  Getting requirements to build wheel: finished with status 'done'\n",
      "  Preparing metadata (pyproject.toml): started\n",
      "  Preparing metadata (pyproject.toml): finished with status 'done'\n",
      "Collecting pymsgbox (from pyautogui)\n",
      "  Downloading PyMsgBox-1.0.9.tar.gz (18 kB)\n",
      "  Installing build dependencies: started\n",
      "  Installing build dependencies: finished with status 'done'\n",
      "  Getting requirements to build wheel: started\n",
      "  Getting requirements to build wheel: finished with status 'done'\n",
      "  Preparing metadata (pyproject.toml): started\n",
      "  Preparing metadata (pyproject.toml): finished with status 'done'\n",
      "Collecting pytweening>=1.0.4 (from pyautogui)\n",
      "  Downloading pytweening-1.2.0.tar.gz (171 kB)\n",
      "  Installing build dependencies: started\n",
      "  Installing build dependencies: finished with status 'done'\n",
      "  Getting requirements to build wheel: started\n",
      "  Getting requirements to build wheel: finished with status 'done'\n",
      "  Preparing metadata (pyproject.toml): started\n",
      "  Preparing metadata (pyproject.toml): finished with status 'done'\n",
      "Collecting pyscreeze>=0.1.21 (from pyautogui)\n",
      "  Downloading pyscreeze-1.0.1.tar.gz (27 kB)\n",
      "  Installing build dependencies: started\n",
      "  Installing build dependencies: finished with status 'done'\n",
      "  Getting requirements to build wheel: started\n",
      "  Getting requirements to build wheel: finished with status 'done'\n",
      "  Preparing metadata (pyproject.toml): started\n",
      "  Preparing metadata (pyproject.toml): finished with status 'done'\n",
      "Collecting pygetwindow>=0.0.5 (from pyautogui)\n",
      "  Downloading PyGetWindow-0.0.9.tar.gz (9.7 kB)\n",
      "  Installing build dependencies: started\n",
      "  Installing build dependencies: finished with status 'done'\n",
      "  Getting requirements to build wheel: started\n",
      "  Getting requirements to build wheel: finished with status 'done'\n",
      "  Preparing metadata (pyproject.toml): started\n",
      "  Preparing metadata (pyproject.toml): finished with status 'done'\n",
      "Collecting mouseinfo (from pyautogui)\n",
      "  Downloading MouseInfo-0.1.3.tar.gz (10 kB)\n",
      "  Installing build dependencies: started\n",
      "  Installing build dependencies: finished with status 'done'\n",
      "  Getting requirements to build wheel: started\n",
      "  Getting requirements to build wheel: finished with status 'done'\n",
      "  Preparing metadata (pyproject.toml): started\n",
      "  Preparing metadata (pyproject.toml): finished with status 'done'\n",
      "Collecting pyrect (from pygetwindow>=0.0.5->pyautogui)\n",
      "  Downloading PyRect-0.2.0.tar.gz (17 kB)\n",
      "  Installing build dependencies: started\n",
      "  Installing build dependencies: finished with status 'done'\n",
      "  Getting requirements to build wheel: started\n",
      "  Getting requirements to build wheel: finished with status 'done'\n",
      "  Preparing metadata (pyproject.toml): started\n",
      "  Preparing metadata (pyproject.toml): finished with status 'done'\n",
      "Collecting pyperclip (from mouseinfo->pyautogui)\n",
      "  Downloading pyperclip-1.9.0.tar.gz (20 kB)\n",
      "  Installing build dependencies: started\n",
      "  Installing build dependencies: finished with status 'done'\n",
      "  Getting requirements to build wheel: started\n",
      "  Getting requirements to build wheel: finished with status 'done'\n",
      "  Preparing metadata (pyproject.toml): started\n",
      "  Preparing metadata (pyproject.toml): finished with status 'done'\n",
      "Building wheels for collected packages: pyautogui, pygetwindow, pyscreeze, pytweening, mouseinfo, pymsgbox, pyperclip, pyrect\n",
      "  Building wheel for pyautogui (pyproject.toml): started\n",
      "  Building wheel for pyautogui (pyproject.toml): finished with status 'done'\n",
      "  Created wheel for pyautogui: filename=pyautogui-0.9.54-py3-none-any.whl size=37707 sha256=0c0a1bb03e55c4630caae1092d551b592dae7304e5b5f268ef325f8c89cd0d13\n",
      "  Stored in directory: c:\\users\\matins\\appdata\\local\\pip\\cache\\wheels\\9c\\22\\e7\\c97f656d0790ef69feae4fcc7bbc1fc648f1b37879f52e7480\n",
      "  Building wheel for pygetwindow (pyproject.toml): started\n",
      "  Building wheel for pygetwindow (pyproject.toml): finished with status 'done'\n",
      "  Created wheel for pygetwindow: filename=pygetwindow-0.0.9-py3-none-any.whl size=11137 sha256=6412ad543f53a0d3adf88d2dc8e79e104a326a4fb5ec59543590ea442ff31145\n",
      "  Stored in directory: c:\\users\\matins\\appdata\\local\\pip\\cache\\wheels\\87\\94\\20\\4e4ddd07e7276e44a38ac39d5b6c919d38ef27b9ebc5041e0f\n",
      "  Building wheel for pyscreeze (pyproject.toml): started\n",
      "  Building wheel for pyscreeze (pyproject.toml): finished with status 'done'\n",
      "  Created wheel for pyscreeze: filename=pyscreeze-1.0.1-py3-none-any.whl size=14481 sha256=a5d479ca72e5f50b0d16235e51fa0218446f9d2cd7dd661ce444da55f7594d49\n",
      "  Stored in directory: c:\\users\\matins\\appdata\\local\\pip\\cache\\wheels\\1c\\6e\\d7\\0acfbc5116e11006753649efc7cb40bb9df98990798a21960d\n",
      "  Building wheel for pytweening (pyproject.toml): started\n",
      "  Building wheel for pytweening (pyproject.toml): finished with status 'done'\n",
      "  Created wheel for pytweening: filename=pytweening-1.2.0-py3-none-any.whl size=8135 sha256=0d88b860bcd063e3f30f690260bf1ec6fbd056a2cf0bb6a4d0ea421c8c9c9f12\n",
      "  Stored in directory: c:\\users\\matins\\appdata\\local\\pip\\cache\\wheels\\e7\\89\\f5\\71248cbe0cc120d985c1976f8f2f31675069644c23ff03abfc\n",
      "  Building wheel for mouseinfo (pyproject.toml): started\n",
      "  Building wheel for mouseinfo (pyproject.toml): finished with status 'done'\n",
      "  Created wheel for mouseinfo: filename=mouseinfo-0.1.3-py3-none-any.whl size=10967 sha256=3099420b61b9a2fc6714313a1df049d6ed8cb640394f23e62a564024d0cf1fbe\n",
      "  Stored in directory: c:\\users\\matins\\appdata\\local\\pip\\cache\\wheels\\61\\5c\\24\\7d8ed078555f30e8f23fbc97f6361242a2cb4437ddd0384389\n",
      "  Building wheel for pymsgbox (pyproject.toml): started\n",
      "  Building wheel for pymsgbox (pyproject.toml): finished with status 'done'\n",
      "  Created wheel for pymsgbox: filename=pymsgbox-1.0.9-py3-none-any.whl size=7467 sha256=dff7f43adde6f5cefcf9df4e1bb4cb0650c6d4b968462baf657ee01a324babb5\n",
      "  Stored in directory: c:\\users\\matins\\appdata\\local\\pip\\cache\\wheels\\02\\b3\\8f\\8105b9948d1e23d9ad0d9de8d7f198aee5c7575aeba878ea82\n",
      "  Building wheel for pyperclip (pyproject.toml): started\n",
      "  Building wheel for pyperclip (pyproject.toml): finished with status 'done'\n",
      "  Created wheel for pyperclip: filename=pyperclip-1.9.0-py3-none-any.whl size=11117 sha256=30a61589573cc378ab6077877aaf691426850528756d2c35916138a0539cdd8b\n",
      "  Stored in directory: c:\\users\\matins\\appdata\\local\\pip\\cache\\wheels\\9c\\79\\90\\c9e831caaffa2633ad99f1d35c6ea39866b92de62e909e89ef\n",
      "  Building wheel for pyrect (pyproject.toml): started\n",
      "  Building wheel for pyrect (pyproject.toml): finished with status 'done'\n",
      "  Created wheel for pyrect: filename=pyrect-0.2.0-py2.py3-none-any.whl size=11306 sha256=ea4e2f3d46b1537f29fbc0675a72271f6b00d068977b57e0dc880087d5d1f918\n",
      "  Stored in directory: c:\\users\\matins\\appdata\\local\\pip\\cache\\wheels\\1e\\84\\e3\\83782b4a92f3d4d5b7fff5c36bf8c31922719e0695ee854cf0\n",
      "Successfully built pyautogui pygetwindow pyscreeze pytweening mouseinfo pymsgbox pyperclip pyrect\n",
      "Installing collected packages: pytweening, pyscreeze, pyrect, pyperclip, pymsgbox, pygetwindow, mouseinfo, pyautogui\n",
      "Successfully installed mouseinfo-0.1.3 pyautogui-0.9.54 pygetwindow-0.0.9 pymsgbox-1.0.9 pyperclip-1.9.0 pyrect-0.2.0 pyscreeze-1.0.1 pytweening-1.2.0\n",
      "Note: you may need to restart the kernel to use updated packages.\n"
     ]
    },
    {
     "name": "stderr",
     "output_type": "stream",
     "text": [
      "\n",
      "[notice] A new release of pip is available: 24.3.1 -> 25.1.1\n",
      "[notice] To update, run: python.exe -m pip install --upgrade pip\n"
     ]
    }
   ],
   "source": [
    "%pip install pyautogui"
   ]
  },
  {
   "cell_type": "code",
   "execution_count": 3,
   "metadata": {},
   "outputs": [],
   "source": [
    "import pyautogui\n",
    "import os\n",
    "import time\n",
    "\n",
    "# Abrir el Bloc de notas (solo en Windows)\n",
    "os.system('start notepad')\n",
    "\n",
    "# Esperar a que se abra el Bloc de notas\n",
    "time.sleep(2)\n",
    "\n",
    "# Escribir un mensaje repetidamente\n",
    "for _ in range(5):\n",
    "    pyautogui.write('¡Automatización con pyautogui es divertida!', interval=0.1)\n",
    "    pyautogui.press('enter')\n",
    "\n",
    "# Cerrar el Bloc de notas\n",
    "pyautogui.hotkey('alt', 'f4')\n",
    "pyautogui.press('n')  # No guardar cambios\n"
   ]
  },
  {
   "cell_type": "markdown",
   "metadata": {},
   "source": [
    "### Automatizar la Navegación Web\n",
    "Este script abrirá el navegador web, irá a una página específica e interactuará con los elementos de la página (funciona solo en Windows con start):"
   ]
  },
  {
   "cell_type": "code",
   "execution_count": 3,
   "metadata": {},
   "outputs": [],
   "source": [
    "import pyautogui\n",
    "import time\n",
    "import webbrowser\n",
    "\n",
    "# Abrir el navegador web y acceder a una URL\n",
    "webbrowser.open('https://www.google.com')\n",
    "\n",
    "# Esperar a que el navegador se abra\n",
    "time.sleep(5)\n",
    "\n",
    "# Escribir en la barra de búsqueda de Google\n",
    "pyautogui.write('Fundación Esplai', interval=0.1)\n",
    "pyautogui.press('enter')\n"
   ]
  },
  {
   "cell_type": "markdown",
   "metadata": {},
   "source": [
    "### Automatizar Tareas en un Editor de Texto\n",
    "Este script abrirá el Bloc de notas, escribirá un texto, lo guardará y cerrará la aplicación (solo en Windows):"
   ]
  },
  {
   "cell_type": "code",
   "execution_count": 4,
   "metadata": {},
   "outputs": [],
   "source": [
    "import pyautogui\n",
    "import os\n",
    "import time\n",
    "\n",
    "# Abrir el Bloc de notas (solo en Windows)\n",
    "os.system('start notepad')\n",
    "\n",
    "# Esperar a que se abra el Bloc de notas\n",
    "time.sleep(2)\n",
    "\n",
    "# Escribir texto en el Bloc de notas\n",
    "pyautogui.write('Esta es una tarea automatizada con pyautogui.\\n¡Es bastante útil!', interval=0.1)\n",
    "\n",
    "# Guardar el archivo\n",
    "pyautogui.hotkey('ctrl', 's')\n",
    "\n",
    "# Esperar un segundo para que aparezca la ventana de guardar\n",
    "time.sleep(1)\n",
    "\n",
    "# Escribir el nombre del archivo y guardar\n",
    "pyautogui.write('automated_note.txt', interval=0.1)\n",
    "pyautogui.press('enter')\n",
    "\n",
    "# Esperar a que se guarde el archivo\n",
    "time.sleep(1)\n",
    "\n",
    "# Cerrar el Bloc de notas\n",
    "pyautogui.hotkey('alt', 'f4')\n"
   ]
  },
  {
   "cell_type": "markdown",
   "metadata": {},
   "source": [
    "### Automatizar el Cambio de Configuraciones del Sistema\n",
    "Este script abre las Configuraciones de Red en Windows"
   ]
  },
  {
   "cell_type": "code",
   "execution_count": 5,
   "metadata": {},
   "outputs": [],
   "source": [
    "import pyautogui\n",
    "import time\n",
    "\n",
    "# Abrir el menú Inicio (solo en Windows)\n",
    "pyautogui.press('win')\n",
    "time.sleep(1)\n",
    "\n",
    "# Buscar \"Configuración de red\" y abrirla\n",
    "pyautogui.write('Configuración de red', interval=0.1)\n",
    "time.sleep(1)\n",
    "pyautogui.press('enter')\n",
    "\n",
    "# Esperar a que se abra la ventana\n",
    "time.sleep(3)\n"
   ]
  },
  {
   "cell_type": "code",
   "execution_count": 6,
   "metadata": {},
   "outputs": [
    {
     "ename": "ModuleNotFoundError",
     "evalue": "No module named 'cv2'",
     "output_type": "error",
     "traceback": [
      "\u001b[31m---------------------------------------------------------------------------\u001b[39m",
      "\u001b[31mModuleNotFoundError\u001b[39m                       Traceback (most recent call last)",
      "\u001b[36mCell\u001b[39m\u001b[36m \u001b[39m\u001b[32mIn[6]\u001b[39m\u001b[32m, line 1\u001b[39m\n\u001b[32m----> \u001b[39m\u001b[32m1\u001b[39m \u001b[38;5;28;01mimport\u001b[39;00m\u001b[38;5;250m \u001b[39m\u001b[34;01mcv2\u001b[39;00m\n\u001b[32m      3\u001b[39m \u001b[38;5;66;03m# Inicializar la cámara web\u001b[39;00m\n\u001b[32m      4\u001b[39m cap = cv2.VideoCapture(\u001b[32m0\u001b[39m)  \u001b[38;5;66;03m# 0 es el ID de la cámara. Si tienes más de una cámara, puede que necesites cambiar este número\u001b[39;00m\n",
      "\u001b[31mModuleNotFoundError\u001b[39m: No module named 'cv2'"
     ]
    }
   ],
   "source": [
    "import cv2\n",
    "\n",
    "# Inicializar la cámara web\n",
    "cap = cv2.VideoCapture(0)  # 0 es el ID de la cámara. Si tienes más de una cámara, puede que necesites cambiar este número\n",
    "\n",
    "# Verificar si la cámara se abrió correctamente\n",
    "if not cap.isOpened():\n",
    "    print(\"No se pudo abrir la cámara\")\n",
    "    exit()\n",
    "\n",
    "# Leer un fotograma de la cámara\n",
    "ret, frame = cap.read()\n",
    "\n",
    "# Verificar si la captura fue exitosa\n",
    "if ret:\n",
    "    # Guardar la imagen capturada\n",
    "    cv2.imwrite('foto_capturada.png', frame)\n",
    "    print(\"Foto tomada y guardada como 'foto_capturada.png'\")\n",
    "else:\n",
    "    print(\"No se pudo capturar la imagen\")\n",
    "\n",
    "# Liberar la cámara y cerrar las ventanas\n",
    "cap.release()\n",
    "cv2.destroyAllWindows()\n"
   ]
  },
  {
   "cell_type": "code",
   "execution_count": 1,
   "metadata": {},
   "outputs": [
    {
     "name": "stdout",
     "output_type": "stream",
     "text": [
      "Defaulting to user installation because normal site-packages is not writeable\n",
      "Note: you may need to restart the kernel to use updated packages.\n"
     ]
    },
    {
     "name": "stderr",
     "output_type": "stream",
     "text": [
      "ERROR: Could not find a version that satisfies the requirement cv2 (from versions: none)\n",
      "\n",
      "[notice] A new release of pip is available: 24.3.1 -> 25.1.1\n",
      "[notice] To update, run: python.exe -m pip install --upgrade pip\n",
      "ERROR: No matching distribution found for cv2\n"
     ]
    }
   ],
   "source": [
    "%pip install cv2"
   ]
  },
  {
   "cell_type": "code",
   "execution_count": 8,
   "metadata": {},
   "outputs": [
    {
     "ename": "KeyboardInterrupt",
     "evalue": "",
     "output_type": "error",
     "traceback": [
      "\u001b[1;31m---------------------------------------------------------------------------\u001b[0m",
      "\u001b[1;31mKeyboardInterrupt\u001b[0m                         Traceback (most recent call last)",
      "Cell \u001b[1;32mIn[8], line 25\u001b[0m\n\u001b[0;32m     22\u001b[0m start_time \u001b[38;5;241m=\u001b[39m cv2\u001b[38;5;241m.\u001b[39mgetTickCount()\n\u001b[0;32m     24\u001b[0m \u001b[38;5;28;01mwhile\u001b[39;00m \u001b[38;5;28mint\u001b[39m((cv2\u001b[38;5;241m.\u001b[39mgetTickCount() \u001b[38;5;241m-\u001b[39m start_time) \u001b[38;5;241m/\u001b[39m cv2\u001b[38;5;241m.\u001b[39mgetTickFrequency()) \u001b[38;5;241m<\u001b[39m capture_duration:\n\u001b[1;32m---> 25\u001b[0m     ret, frame \u001b[38;5;241m=\u001b[39m cap\u001b[38;5;241m.\u001b[39mread()\n\u001b[0;32m     26\u001b[0m     \u001b[38;5;28;01mif\u001b[39;00m \u001b[38;5;129;01mnot\u001b[39;00m ret:\n\u001b[0;32m     27\u001b[0m         \u001b[38;5;28mprint\u001b[39m(\u001b[38;5;124m\"\u001b[39m\u001b[38;5;124mError al capturar el fotograma\u001b[39m\u001b[38;5;124m\"\u001b[39m)\n",
      "\u001b[1;31mKeyboardInterrupt\u001b[0m: "
     ]
    }
   ],
   "source": [
    "import cv2\n",
    "\n",
    "# Inicializar la cámara web\n",
    "cap = cv2.VideoCapture(0)  # 0 es el ID de la cámara\n",
    "\n",
    "# Verificar si la cámara se abrió correctamente\n",
    "if not cap.isOpened():\n",
    "    print(\"No se pudo abrir la cámara\")\n",
    "    exit()\n",
    "\n",
    "# Obtener el ancho y alto del video de la cámara\n",
    "frame_width = int(cap.get(cv2.CAP_PROP_FRAME_WIDTH))\n",
    "frame_height = int(cap.get(cv2.CAP_PROP_FRAME_HEIGHT))\n",
    "\n",
    "# Definir el códec y crear el objeto VideoWriter para guardar el video\n",
    "# 'XVID' es un codec común, pero puedes cambiarlo a otros como 'MJPG'\n",
    "fourcc = cv2.VideoWriter_fourcc(*'XVID')\n",
    "out = cv2.VideoWriter('video_capturado.avi', fourcc, 20.0, (frame_width, frame_height))\n",
    "\n",
    "# Grabar durante un tiempo determinado\n",
    "capture_duration = 10  # Duración en segundos\n",
    "start_time = cv2.getTickCount()\n",
    "\n",
    "while int((cv2.getTickCount() - start_time) / cv2.getTickFrequency()) < capture_duration:\n",
    "    ret, frame = cap.read()\n",
    "    if not ret:\n",
    "        print(\"Error al capturar el fotograma\")\n",
    "        break\n",
    "\n",
    "    # Escribir el fotograma en el archivo de video\n",
    "    out.write(frame)\n",
    "\n",
    "    # Mostrar el video en una ventana (opcional)\n",
    "    cv2.imshow('Grabando...', frame)\n",
    "\n",
    "    # Presionar 'q' para detener la grabación antes de tiempo\n",
    "    if cv2.waitKey(1) & 0xFF == ord('q'):\n",
    "        break\n",
    "\n",
    "# Liberar la cámara y cerrar todas las ventanas\n",
    "cap.release()\n",
    "out.release()\n",
    "cv2.destroyAllWindows()\n",
    "\n",
    "print(\"Video grabado y guardado como 'video_capturado.avi'\")\n"
   ]
  }
 ],
 "metadata": {
  "kernelspec": {
   "display_name": "Python 3",
   "language": "python",
   "name": "python3"
  },
  "language_info": {
   "codemirror_mode": {
    "name": "ipython",
    "version": 3
   },
   "file_extension": ".py",
   "mimetype": "text/x-python",
   "name": "python",
   "nbconvert_exporter": "python",
   "pygments_lexer": "ipython3",
   "version": "3.13.2"
  }
 },
 "nbformat": 4,
 "nbformat_minor": 2
}
