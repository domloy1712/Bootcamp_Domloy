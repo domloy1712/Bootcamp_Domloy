{
 "cells": [
  {
   "cell_type": "code",
   "execution_count": 22,
   "id": "1d1ac650",
   "metadata": {},
   "outputs": [
    {
     "name": "stdout",
     "output_type": "stream",
     "text": [
      "\u001b[31m*\u001b[0m\n",
      "\u001b[33m**\u001b[0m\n",
      "\u001b[34m***\u001b[0m\n",
      "\u001b[36m****\u001b[0m\n"
     ]
    }
   ],
   "source": [
    "Rojo = \"\\033[31m\" \n",
    "Amarillo = \"\\033[33m\"\n",
    "Azul = \"\\033[34m\"\n",
    "Lila = \"\\033[36m\"\n",
    "\n",
    "RESET = \"\\033[0m\"\n",
    "\n",
    "for i in range(5):\n",
    "    valor = (\"*\"*i)\n",
    "    if len(valor) == 1:\n",
    "     print(Rojo+valor+RESET)\n",
    "    elif len(valor) == 2:\n",
    "       print(Amarillo+valor+RESET)\n",
    "    elif len(valor) == 3:\n",
    "       print(Azul+valor+RESET)\n",
    "    elif len(valor) == 4:\n",
    "       print(Lila+valor+RESET)\n"
   ]
  },
  {
   "cell_type": "code",
   "execution_count": null,
   "id": "9fe886a4",
   "metadata": {},
   "outputs": [
    {
     "name": "stdout",
     "output_type": "stream",
     "text": [
      "\u001b[31m*****\u001b[0m\n",
      "  \u001b[32m*\u001b[0m\n",
      "  \u001b[32m*\u001b[0m\n",
      "  \u001b[32m*\u001b[0m\n"
     ]
    }
   ],
   "source": [
    "Rojo = \"\\033[31m\" \n",
    "RESET = \"\\033[0m\"\n",
    "Verde = \"\\033[32m\"\n",
    "\n",
    "print(Rojo+(\"*\"*5)+RESET)\n",
    "\n",
    "Asterisco =\"*\"\n",
    "\n",
    "for i in range(3):\n",
    "    Espacio = \"  \"\n",
    "    print(Espacio+(Verde+Asterisco+RESET))\n",
    "\n"
   ]
  },
  {
   "cell_type": "code",
   "execution_count": 59,
   "id": "2d95fea5",
   "metadata": {},
   "outputs": [
    {
     "name": "stdout",
     "output_type": "stream",
     "text": [
      " *\n",
      " *\n",
      " *\n",
      " *\n",
      " *\n",
      " *\n",
      " *\n",
      " *\n",
      " *\n"
     ]
    }
   ],
   "source": [
    "GREEN = \"\\033[92m\"\n",
    "RED = \"\\033[91m\"\n",
    "RESET = \"\\033[0m\"\n",
    "\n",
    "\n",
    "\n",
    "for i in range(5):\n",
    " for j in range(5):\n",
    "     espacio= \" \"\n",
    "     if i == j:\n",
    "        print(espacio+\"*\")\n",
    "     elif i+j == 5 -1 :\n",
    "         print(espacio+\"*\")\n",
    "\n",
    "  \n",
    "   \n"
   ]
  },
  {
   "cell_type": "code",
   "execution_count": 60,
   "id": "b29d44ee",
   "metadata": {},
   "outputs": [
    {
     "name": "stdout",
     "output_type": "stream",
     "text": [
      "* * * * * \n",
      "* * * * * \n",
      "* * * * * \n",
      "* * * * * \n",
      "* * * * * \n"
     ]
    }
   ],
   "source": [
    "for i in range(5):\n",
    "    for j in range(5):\n",
    "        if i == j:\n",
    "            print(\"*\", end=\" \")\n",
    "        elif i + j :\n",
    "            print(\"*\", end=\" \")\n",
    "        else:\n",
    "            print(\" \", end=\"\")\n",
    "    print()\n"
   ]
  }
 ],
 "metadata": {
  "kernelspec": {
   "display_name": "Python 3",
   "language": "python",
   "name": "python3"
  },
  "language_info": {
   "codemirror_mode": {
    "name": "ipython",
    "version": 3
   },
   "file_extension": ".py",
   "mimetype": "text/x-python",
   "name": "python",
   "nbconvert_exporter": "python",
   "pygments_lexer": "ipython3",
   "version": "3.13.2"
  }
 },
 "nbformat": 4,
 "nbformat_minor": 5
}
