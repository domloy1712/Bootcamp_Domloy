{
 "cells": [
  {
   "cell_type": "code",
   "execution_count": 1,
   "metadata": {},
   "outputs": [
    {
     "name": "stdout",
     "output_type": "stream",
     "text": [
      "Sistema Operativo: Windows, Versión: 10.0.22631\n"
     ]
    }
   ],
   "source": [
    "import platform\n",
    "\n",
    "# Obtener el sistema operativo\n",
    "os_name = platform.system()\n",
    "os_version = platform.version()\n",
    "print(f'Sistema Operativo: {os_name}, Versión: {os_version}')\n"
   ]
  },
  {
   "cell_type": "code",
   "execution_count": 2,
   "metadata": {},
   "outputs": [
    {
     "name": "stdout",
     "output_type": "stream",
     "text": [
      "Idioma del sistema: es_ES\n"
     ]
    },
    {
     "name": "stderr",
     "output_type": "stream",
     "text": [
      "C:\\Users\\mihif\\AppData\\Local\\Temp\\ipykernel_22240\\1026350669.py:4: DeprecationWarning: 'locale.getdefaultlocale' is deprecated and slated for removal in Python 3.15. Use setlocale(), getencoding() and getlocale() instead.\n",
      "  language, encoding = locale.getdefaultlocale()\n"
     ]
    }
   ],
   "source": [
    "import locale\n",
    "\n",
    "# Obtener el idioma del sistema\n",
    "language, encoding = locale.getdefaultlocale()\n",
    "print(f'Idioma del sistema: {language}')\n"
   ]
  },
  {
   "cell_type": "code",
   "execution_count": 1,
   "metadata": {},
   "outputs": [
    {
     "name": "stdout",
     "output_type": "stream",
     "text": [
      "URL: https://drive.google.com/file/d/1ARjFIsf5oOAkYiz5f0tKrx2Glrdp-UNt/view\n",
      "Título: automatizacion.zip - Google Drive\n",
      "Visitas: 1\n",
      "Última visita: 13393582349786379\n",
      "\n",
      "URL: https://drive.google.com/file/d/1ARjFIsf5oOAkYiz5f0tKrx2Glrdp-UNt/view?authuser=0&usp=classroom_web\n",
      "Título: automatizacion.zip - Google Drive\n",
      "Visitas: 1\n",
      "Última visita: 13393582349314771\n",
      "\n",
      "URL: https://drive.google.com/file/u/0/d/1ARjFIsf5oOAkYiz5f0tKrx2Glrdp-UNt/view?authuser=0&usp=classroom_web\n",
      "Título: automatizacion.zip - Google Drive\n",
      "Visitas: 1\n",
      "Última visita: 13393582349314771\n",
      "\n",
      "URL: https://drive.google.com/file/u/0/d/1ARjFIsf5oOAkYiz5f0tKrx2Glrdp-UNt/view?usp=classroom_web\n",
      "Título: automatizacion.zip - Google Drive\n",
      "Visitas: 1\n",
      "Última visita: 13393582349314771\n",
      "\n",
      "URL: https://classroom.google.com/w/NzUzOTM0NTQzNTg3/t/all\n",
      "Título: Trabajo de clase de IFCD0112\n",
      "Visitas: 151\n",
      "Última visita: 13393582312856106\n",
      "\n",
      "URL: https://classroom.google.com/c/NzUzOTM0NTQzNTg3\n",
      "Título: IFCD0112\n",
      "Visitas: 185\n",
      "Última visita: 13393582303499192\n",
      "\n",
      "URL: https://chatgpt.com/\n",
      "Título: ChatGPT\n",
      "Visitas: 172\n",
      "Última visita: 13393582073728493\n",
      "\n",
      "URL: https://openai.com/es-419/chatgpt/overview/\n",
      "Título: ChatGPT | OpenAI\n",
      "Visitas: 2\n",
      "Última visita: 13393582070919830\n",
      "\n",
      "URL: https://www.google.com/search?q=chatgpt&oq=&gs_lcrp=EgZjaHJvbWUqCQgAECMYJxjqAjIJCAAQIxgnGOoCMg8IARAuGCcYxwEY6gIY0QMyCQgCECMYJxjqAjIJCAMQIxgnGOoCMgkIBBAjGCcY6gIyCQgFECMYJxjqAjIJCAYQIxgnGOoCMgkIBxAjGCcY6gLSAQw2NDA5NDExN2owajeoAgiwAgHxBcAG6T-I6zig&sourceid=chrome&ie=UTF-8\n",
      "Título: chatgpt - Cerca de Google\n",
      "Visitas: 1\n",
      "Última visita: 13393582068880495\n",
      "\n",
      "URL: https://mail.google.com/mail/u/0/?tab=rm&ogbl#spam\n",
      "Título: Spam - eloydominguez3@gmail.com - Gmail\n",
      "Visitas: 6\n",
      "Última visita: 13393580451105095\n",
      "\n"
     ]
    }
   ],
   "source": [
    "import sqlite3\n",
    "import os\n",
    "import shutil\n",
    "\n",
    "# Ruta del historial de Chrome en Windows\n",
    "history_db = os.path.expanduser(\"~\") + r\"\\AppData\\Local\\Google\\Chrome\\User Data\\Default\\History\"\n",
    "\n",
    "# Hacer una copia temporal porque Chrome bloquea el archivo original\n",
    "temp_db = \"chrome_history_copy.db\"\n",
    "shutil.copy2(history_db, temp_db)\n",
    "\n",
    "# Conectar a la base de datos SQLite\n",
    "conn = sqlite3.connect(temp_db)\n",
    "cursor = conn.cursor()\n",
    "\n",
    "# Consulta para obtener URL y fecha de visita\n",
    "cursor.execute(\"SELECT url, title, visit_count, last_visit_time FROM urls ORDER BY last_visit_time DESC LIMIT 10\")\n",
    "\n",
    "# Mostrar resultados\n",
    "for row in cursor.fetchall():\n",
    "    print(f\"URL: {row[0]}\\nTítulo: {row[1]}\\nVisitas: {row[2]}\\nÚltima visita: {row[3]}\\n\")\n",
    "\n",
    "# Cerrar conexión\n",
    "conn.close()\n",
    "\n",
    "# Eliminar la copia temporal\n",
    "os.remove(temp_db)\n",
    "\n"
   ]
  },
  {
   "cell_type": "code",
   "execution_count": null,
   "metadata": {},
   "outputs": [],
   "source": []
  },
  {
   "cell_type": "code",
   "execution_count": 4,
   "metadata": {},
   "outputs": [
    {
     "name": "stdout",
     "output_type": "stream",
     "text": [
      "Los 10 sitios más visitados:\n",
      "classroom.google.com: 20 visitas\n",
      "oauth.officeapps.live.com: 12 visitas\n",
      "mail.google.com: 7 visitas\n",
      "fundesplai.sharepoint.com: 6 visitas\n",
      "login.microsoftonline.com: 4 visitas\n",
      "www.bing.com: 4 visitas\n",
      "www.linkedin.com: 4 visitas\n",
      "127.0.0.1:5000: 3 visitas\n",
      "login.live.com: 3 visitas\n",
      "es.linkedin.com: 2 visitas\n"
     ]
    }
   ],
   "source": [
    "import sqlite3\n",
    "import os\n",
    "import shutil\n",
    "from collections import Counter\n",
    "from urllib.parse import urlparse\n",
    "\n",
    "# Ruta del historial de Chrome\n",
    "history_db = os.path.expanduser(\"~\") + r\"\\AppData\\Local\\Google\\Chrome\\User Data\\Default\\History\"\n",
    "temp_db = \"chrome_history_copy.db\"\n",
    "\n",
    "# Hacer una copia porque Chrome bloquea el acceso\n",
    "shutil.copy2(history_db, temp_db)\n",
    "\n",
    "# Conectar a la base de datos SQLite\n",
    "conn = sqlite3.connect(temp_db)\n",
    "cursor = conn.cursor()\n",
    "\n",
    "# Obtener todas las URL visitadas\n",
    "cursor.execute(\"SELECT url FROM urls\")\n",
    "urls = [row[0] for row in cursor.fetchall()]\n",
    "\n",
    "# Contar visitas por dominio\n",
    "domains = [urlparse(url).netloc for url in urls]\n",
    "domain_counts = Counter(domains)\n",
    "\n",
    "# Mostrar los 10 sitios más visitados\n",
    "print(\"Los 10 sitios más visitados:\")\n",
    "for domain, count in domain_counts.most_common(10):\n",
    "    print(f\"{domain}: {count} visitas\")\n",
    "\n",
    "# Cerrar conexión y eliminar archivo temporal\n",
    "conn.close()\n",
    "os.remove(temp_db)\n"
   ]
  },
  {
   "cell_type": "code",
   "execution_count": 3,
   "metadata": {},
   "outputs": [
    {
     "name": "stdout",
     "output_type": "stream",
     "text": [
      "Defaulting to user installation because normal site-packages is not writeable\n",
      "Collecting matplotlib\n",
      "  Downloading matplotlib-3.10.3-cp313-cp313-win_amd64.whl.metadata (11 kB)\n",
      "Collecting contourpy>=1.0.1 (from matplotlib)\n",
      "  Downloading contourpy-1.3.2-cp313-cp313-win_amd64.whl.metadata (5.5 kB)\n",
      "Collecting cycler>=0.10 (from matplotlib)\n",
      "  Downloading cycler-0.12.1-py3-none-any.whl.metadata (3.8 kB)\n",
      "Collecting fonttools>=4.22.0 (from matplotlib)\n",
      "  Downloading fonttools-4.58.1-cp313-cp313-win_amd64.whl.metadata (108 kB)\n",
      "Collecting kiwisolver>=1.3.1 (from matplotlib)\n",
      "  Downloading kiwisolver-1.4.8-cp313-cp313-win_amd64.whl.metadata (6.3 kB)\n",
      "Collecting numpy>=1.23 (from matplotlib)\n",
      "  Downloading numpy-2.2.6-cp313-cp313-win_amd64.whl.metadata (60 kB)\n",
      "Requirement already satisfied: packaging>=20.0 in c:\\users\\matins\\appdata\\roaming\\python\\python313\\site-packages (from matplotlib) (25.0)\n",
      "Collecting pillow>=8 (from matplotlib)\n",
      "  Downloading pillow-11.2.1-cp313-cp313-win_amd64.whl.metadata (9.1 kB)\n",
      "Collecting pyparsing>=2.3.1 (from matplotlib)\n",
      "  Downloading pyparsing-3.2.3-py3-none-any.whl.metadata (5.0 kB)\n",
      "Requirement already satisfied: python-dateutil>=2.7 in c:\\users\\matins\\appdata\\roaming\\python\\python313\\site-packages (from matplotlib) (2.9.0.post0)\n",
      "Requirement already satisfied: six>=1.5 in c:\\users\\matins\\appdata\\roaming\\python\\python313\\site-packages (from python-dateutil>=2.7->matplotlib) (1.17.0)\n",
      "Downloading matplotlib-3.10.3-cp313-cp313-win_amd64.whl (8.1 MB)\n",
      "   ---------------------------------------- 0.0/8.1 MB ? eta -:--:--\n",
      "   ----- ---------------------------------- 1.0/8.1 MB 7.0 MB/s eta 0:00:02\n",
      "   ----------------------- ---------------- 4.7/8.1 MB 13.1 MB/s eta 0:00:01\n",
      "   ---------------------------------------- 8.1/8.1 MB 14.4 MB/s eta 0:00:00\n",
      "Downloading contourpy-1.3.2-cp313-cp313-win_amd64.whl (223 kB)\n",
      "Downloading cycler-0.12.1-py3-none-any.whl (8.3 kB)\n",
      "Downloading fonttools-4.58.1-cp313-cp313-win_amd64.whl (2.2 MB)\n",
      "   ---------------------------------------- 0.0/2.2 MB ? eta -:--:--\n",
      "   ---------------------------------------- 2.2/2.2 MB 22.9 MB/s eta 0:00:00\n",
      "Downloading kiwisolver-1.4.8-cp313-cp313-win_amd64.whl (71 kB)\n",
      "Downloading numpy-2.2.6-cp313-cp313-win_amd64.whl (12.6 MB)\n",
      "   ---------------------------------------- 0.0/12.6 MB ? eta -:--:--\n",
      "   ----------------- ---------------------- 5.5/12.6 MB 29.4 MB/s eta 0:00:01\n",
      "   -------------------------------------- - 12.1/12.6 MB 28.7 MB/s eta 0:00:01\n",
      "   ---------------------------------------- 12.6/12.6 MB 26.0 MB/s eta 0:00:00\n",
      "Downloading pillow-11.2.1-cp313-cp313-win_amd64.whl (2.7 MB)\n",
      "   ---------------------------------------- 0.0/2.7 MB ? eta -:--:--\n",
      "   ---------------------------------------- 2.7/2.7 MB 21.3 MB/s eta 0:00:00\n",
      "Downloading pyparsing-3.2.3-py3-none-any.whl (111 kB)\n",
      "Installing collected packages: pyparsing, pillow, numpy, kiwisolver, fonttools, cycler, contourpy, matplotlib\n",
      "Successfully installed contourpy-1.3.2 cycler-0.12.1 fonttools-4.58.1 kiwisolver-1.4.8 matplotlib-3.10.3 numpy-2.2.6 pillow-11.2.1 pyparsing-3.2.3\n",
      "Note: you may need to restart the kernel to use updated packages.\n"
     ]
    },
    {
     "name": "stderr",
     "output_type": "stream",
     "text": [
      "\n",
      "[notice] A new release of pip is available: 24.3.1 -> 25.1.1\n",
      "[notice] To update, run: python.exe -m pip install --upgrade pip\n"
     ]
    }
   ],
   "source": [
    "%pip install matplotlib"
   ]
  },
  {
   "cell_type": "code",
   "execution_count": 4,
   "metadata": {},
   "outputs": [
    {
     "ename": "NameError",
     "evalue": "name 'domain_counts' is not defined",
     "output_type": "error",
     "traceback": [
      "\u001b[31m---------------------------------------------------------------------------\u001b[39m",
      "\u001b[31mNameError\u001b[39m                                 Traceback (most recent call last)",
      "\u001b[36mCell\u001b[39m\u001b[36m \u001b[39m\u001b[32mIn[4]\u001b[39m\u001b[32m, line 4\u001b[39m\n\u001b[32m      1\u001b[39m \u001b[38;5;28;01mimport\u001b[39;00m\u001b[38;5;250m \u001b[39m\u001b[34;01mmatplotlib\u001b[39;00m\u001b[34;01m.\u001b[39;00m\u001b[34;01mpyplot\u001b[39;00m\u001b[38;5;250m \u001b[39m\u001b[38;5;28;01mas\u001b[39;00m\u001b[38;5;250m \u001b[39m\u001b[34;01mplt\u001b[39;00m\n\u001b[32m      3\u001b[39m \u001b[38;5;66;03m# Obtener los 10 dominios más visitados\u001b[39;00m\n\u001b[32m----> \u001b[39m\u001b[32m4\u001b[39m top_domains = \u001b[43mdomain_counts\u001b[49m.most_common(\u001b[32m10\u001b[39m)\n\u001b[32m      5\u001b[39m domains, counts = \u001b[38;5;28mzip\u001b[39m(*top_domains)\n\u001b[32m      7\u001b[39m \u001b[38;5;66;03m# Crear gráfico de barras\u001b[39;00m\n",
      "\u001b[31mNameError\u001b[39m: name 'domain_counts' is not defined"
     ]
    }
   ],
   "source": [
    "import matplotlib.pyplot as plt\n",
    "\n",
    "# Obtener los 10 dominios más visitados\n",
    "top_domains = domain_counts.most_common(10)\n",
    "domains, counts = zip(*top_domains)\n",
    "\n",
    "# Crear gráfico de barras\n",
    "plt.figure(figsize=(10, 5))\n",
    "plt.barh(domains, counts, color=\"skyblue\")\n",
    "plt.xlabel(\"Número de visitas\")\n",
    "plt.ylabel(\"Dominio\")\n",
    "plt.title(\"Top 10 sitios más visitados\")\n",
    "plt.gca().invert_yaxis()\n",
    "plt.show()\n"
   ]
  },
  {
   "cell_type": "code",
   "execution_count": 6,
   "metadata": {},
   "outputs": [
    {
     "name": "stdout",
     "output_type": "stream",
     "text": [
      "Visitas por hora del día:\n",
      "14:00 - 37 visitas\n",
      "15:00 - 15 visitas\n",
      "16:00 - 3 visitas\n",
      "17:00 - 14 visitas\n",
      "18:00 - 2 visitas\n"
     ]
    }
   ],
   "source": [
    "import datetime\n",
    "\n",
    "# Ruta del historial de Chrome\n",
    "history_db = os.path.expanduser(\"~\") + r\"\\AppData\\Local\\Google\\Chrome\\User Data\\Default\\History\"\n",
    "temp_db = \"chrome_history_copy.db\"\n",
    "\n",
    "# Hacer una copia porque Chrome bloquea el acceso\n",
    "shutil.copy2(history_db, temp_db)\n",
    "\n",
    "# Reabrir la conexión a la base de datos\n",
    "conn = sqlite3.connect(temp_db)\n",
    "cursor = conn.cursor()\n",
    "\n",
    "# Consulta para obtener las horas de visita\n",
    "cursor.execute(\"SELECT last_visit_time FROM urls\")\n",
    "timestamps = [row[0] for row in cursor.fetchall()]\n",
    "\n",
    "# Convertir timestamps a horas (Chrome almacena el tiempo en microsegundos desde el 1 de enero de 1601)\n",
    "timestamps = [(datetime.datetime(1601, 1, 1) + datetime.timedelta(microseconds=t)).hour for t in timestamps]\n",
    "\n",
    "# Contar visitas por hora\n",
    "hour_counts = Counter(timestamps)\n",
    "\n",
    "# Mostrar las horas más activas\n",
    "print(\"Visitas por hora del día:\")\n",
    "for hour, count in sorted(hour_counts.items()):\n",
    "    print(f\"{hour}:00 - {count} visitas\")\n",
    "\n",
    "# Cerrar conexión y eliminar archivo temporal\n",
    "conn.close()\n",
    "os.remove(temp_db)\n"
   ]
  }
 ],
 "metadata": {
  "kernelspec": {
   "display_name": "Python 3",
   "language": "python",
   "name": "python3"
  },
  "language_info": {
   "codemirror_mode": {
    "name": "ipython",
    "version": 3
   },
   "file_extension": ".py",
   "mimetype": "text/x-python",
   "name": "python",
   "nbconvert_exporter": "python",
   "pygments_lexer": "ipython3",
   "version": "3.13.2"
  }
 },
 "nbformat": 4,
 "nbformat_minor": 2
}
