{
 "cells": [
  {
   "cell_type": "code",
   "execution_count": null,
   "metadata": {},
   "outputs": [],
   "source": [
    "import requests\n",
    "from bs4 import BeautifulSoup\n",
    "import csv"
   ]
  },
  {
   "cell_type": "code",
   "execution_count": null,
   "metadata": {},
   "outputs": [],
   "source": [
    "\n",
    "\n",
    "# URL de la página de laptops\n",
    "url = 'https://webscraper.io/test-sites/e-commerce/allinone/computers/laptops'\n",
    "\n",
    "# Realizar la solicitud GET\n",
    "response = requests.get(url)\n",
    "\n",
    "# Analizar el contenido HTML con BeautifulSoup\n",
    "soup = BeautifulSoup(response.content, 'html.parser')\n",
    "\n",
    "# Encontrar todos los contenedores de los productos\n",
    "products = soup.find_all('div', class_='col-sm-4 col-lg-4 col-md-4')\n",
    "\n",
    "# Crear una lista para almacenar los datos de los productos\n",
    "product_data = []\n",
    "\n",
    "# Extraer los datos de cada producto\n",
    "for product in products:\n",
    "    # Nombre del producto\n",
    "    name = product.find('a', class_='title').text.strip()\n",
    "    \n",
    "    # Precio del producto\n",
    "    price = product.find('h4', class_='price').text.strip()\n",
    "    \n",
    "    # Descripción del producto\n",
    "    description = product.find('p', class_='description').text.strip()\n",
    "    \n",
    "    # Cantidad de reviews\n",
    "    reviews = product.find('div', class_='ratings').find('p').text.strip()\n",
    "    \n",
    "    # Añadir los datos del producto a la lista\n",
    "    product_data.append([name, price, description, reviews])\n",
    "\n",
    "# Guardar los datos en un archivo CSV\n",
    "with open('laptops_data.csv', mode='w', newline='', encoding='utf-8') as file:\n",
    "    writer = csv.writer(file)\n",
    "    writer.writerow(['Nombre', 'Precio', 'Descripción', 'Reseñas'])\n",
    "    writer.writerows(product_data)\n",
    "\n",
    "print(\"Datos de productos guardados en 'laptops_data.csv'\")\n"
   ]
  }
 ],
 "metadata": {
  "language_info": {
   "name": "python"
  }
 },
 "nbformat": 4,
 "nbformat_minor": 2
}
